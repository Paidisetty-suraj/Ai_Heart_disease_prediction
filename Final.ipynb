{
 "cells": [
  {
   "cell_type": "markdown",
   "metadata": {
    "id": "ut-LTTmt1JRa"
   },
   "source": [
    "#Importing Libraries"
   ]
  },
  {
   "cell_type": "code",
   "execution_count": null,
   "metadata": {
    "colab": {
     "background_save": true
    },
    "id": "RSehiDO8EtPP"
   },
   "outputs": [],
   "source": [
    "import numpy as np  #to work with arrays\n",
    "import pandas as pd #used for data mining analysis\n",
    "import seaborn as sns #library for making statistical graphics\n",
    "import matplotlib.pyplot as plt #to plot graphs and charts\n",
    "\n",
    "#To ignore warnings.\n",
    "import warnings\n",
    "warnings.filterwarnings('ignore')\n"
   ]
  },
  {
   "cell_type": "markdown",
   "metadata": {
    "id": "7jkmu0RD1OiG"
   },
   "source": [
    "#Reading file"
   ]
  },
  {
   "cell_type": "code",
   "execution_count": null,
   "metadata": {
    "colab": {
     "background_save": true
    },
    "id": "bMKPItMLE2Pa"
   },
   "outputs": [],
   "source": [
    "data = pd.read_csv('Actual1 - Copy.csv') #return data frame with all values from table\n",
    "X1=data.iloc[:,:].values  #values of all columns and rows "
   ]
  },
  {
   "cell_type": "code",
   "execution_count": null,
   "metadata": {
    "colab": {
     "background_save": true,
     "base_uri": "https://localhost:8080/"
    },
    "id": "mCAzcmZvDdZo",
    "outputId": "469a00dc-cbf6-4d23-d175-a81149fd848a"
   },
   "outputs": [
    {
     "name": "stdout",
     "output_type": "stream",
     "text": [
      "<class 'numpy.ndarray'>\n",
      "<class 'pandas.core.frame.DataFrame'>\n"
     ]
    }
   ],
   "source": [
    "print(type(X1))\n",
    "print(type(data))"
   ]
  },
  {
   "cell_type": "code",
   "execution_count": null,
   "metadata": {
    "colab": {
     "background_save": true,
     "base_uri": "https://localhost:8080/"
    },
    "id": "1T1mAlIg7ocU",
    "outputId": "b0b1b512-930d-4739-954d-5a87ee1f00a2"
   },
   "outputs": [
    {
     "name": "stdout",
     "output_type": "stream",
     "text": [
      "(303, 14)\n",
      "   age   sex  cp  trestbps  chol  fbs  restecg  thalach exang  oldpeak slope  \\\n",
      "0   63  male   3       145   233  tru        0      150   fal      2.3  down   \n",
      "1   67  male   0       160   286  fal        0      108   tru      1.5  flat   \n",
      "2   67  male   0       120   229  fal        0      129   tru      2.6  flat   \n",
      "3   37  male   2       130   250  fal        1      187   fal      3.5  down   \n",
      "4   41   fem   1       130   204  fal        0      172   fal      1.4    up   \n",
      "\n",
      "   ca  thal target  \n",
      "0   0   fix   buff  \n",
      "1   3  norm   sick  \n",
      "2   2   rev   sick  \n",
      "3   0  norm   buff  \n",
      "4   0  norm   buff  \n"
     ]
    }
   ],
   "source": [
    "print(data.shape) #get no of rows and columns in dataframe\n",
    "print(data.head(5)) #getb first 5 rows in dataframe"
   ]
  },
  {
   "cell_type": "markdown",
   "metadata": {
    "id": "u1wPhuSR1WGq"
   },
   "source": [
    "#Removing duplicates"
   ]
  },
  {
   "cell_type": "code",
   "execution_count": null,
   "metadata": {
    "colab": {
     "background_save": true,
     "base_uri": "https://localhost:8080/"
    },
    "id": "9eHAXV6EEnIk",
    "outputId": "956c4a39-5e2f-4146-ef94-6e0677e6f8c5"
   },
   "outputs": [
    {
     "data": {
      "text/plain": [
       "array([38, 'male', 2, 138, 175, 'fal', 1, 173, 'fal', 0.0, 'up', 4,\n",
       "       'norm', 'buff'], dtype=object)"
      ]
     },
     "execution_count": null,
     "metadata": {},
     "output_type": "execute_result"
    }
   ],
   "source": [
    "data.iloc[157,:].values"
   ]
  },
  {
   "cell_type": "code",
   "execution_count": null,
   "metadata": {
    "colab": {
     "background_save": true,
     "base_uri": "https://localhost:8080/"
    },
    "id": "K4af5WCQEoYg",
    "outputId": "b48cdc3c-dcf3-48d2-a395-c6369461973a"
   },
   "outputs": [
    {
     "data": {
      "text/plain": [
       "array([38, 'male', 2, 138, 175, 'fal', 1, 173, 'fal', 0.0, 'up', 4,\n",
       "       'norm', 'buff'], dtype=object)"
      ]
     },
     "execution_count": null,
     "metadata": {},
     "output_type": "execute_result"
    }
   ],
   "source": [
    "data.iloc[262,:].values"
   ]
  },
  {
   "cell_type": "code",
   "execution_count": null,
   "metadata": {
    "colab": {
     "background_save": true,
     "base_uri": "https://localhost:8080/"
    },
    "id": "tlhg9Q13zM7E",
    "outputId": "1430a17b-7d9f-4c85-e11f-8c1a623d1b60"
   },
   "outputs": [
    {
     "name": "stdout",
     "output_type": "stream",
     "text": [
      "(303, 14)\n",
      "2\n",
      "1\n",
      "     age   sex  cp  trestbps  chol  fbs  restecg  thalach exang  oldpeak  \\\n",
      "157   38  male   2       138   175  fal        1      173   fal      0.0   \n",
      "262   38  male   2       138   175  fal        1      173   fal      0.0   \n",
      "\n",
      "    slope  ca  thal target  \n",
      "157    up   4  norm   buff  \n",
      "262    up   4  norm   buff  \n",
      "(302, 14)\n"
     ]
    }
   ],
   "source": [
    "print(data.shape)\n",
    "print(data.duplicated(keep = False).sum())  #analyse duplicate values and it consider all of the same values as duplicates and sum no. of duplicates\n",
    "print(data.duplicated().sum())  #by default keep='first' which considers first occurence as unique\n",
    "print(data.loc[data.duplicated(keep = False), :]) #getting location of duplicates and printing them\n",
    "data = data.drop_duplicates(keep='first') #keeping the first occurence of duplicate and deleting remaining\n",
    "print(data.shape)"
   ]
  },
  {
   "cell_type": "markdown",
   "metadata": {
    "id": "R7kIRBdt6hv9"
   },
   "source": [
    "#Encoding categorical data"
   ]
  },
  {
   "cell_type": "code",
   "execution_count": null,
   "metadata": {
    "colab": {
     "background_save": true,
     "base_uri": "https://localhost:8080/"
    },
    "id": "ZwitM4geGasX",
    "outputId": "47e70e75-aa8c-4768-99bc-4d8f6af53f4a"
   },
   "outputs": [
    {
     "name": "stdout",
     "output_type": "stream",
     "text": [
      "['male' 'male' 'male' 'male' 'fem']\n"
     ]
    }
   ],
   "source": [
    "print(X1[0:5,1])"
   ]
  },
  {
   "cell_type": "code",
   "execution_count": null,
   "metadata": {
    "colab": {
     "background_save": true,
     "base_uri": "https://localhost:8080/"
    },
    "id": "ts6bpJxcE_PR",
    "outputId": "d5eb7eae-53b3-4f42-ea6d-d53149fea6bd"
   },
   "outputs": [
    {
     "name": "stdout",
     "output_type": "stream",
     "text": [
      "[[63 1 3 ... 0 'fix' 'buff']\n",
      " [67 1 0 ... 3 'norm' 'sick']\n",
      " [67 1 0 ... 2 'rev' 'sick']\n",
      " ...\n",
      " [49 1 2 ... 3 'norm' 'sick']\n",
      " [74 0 1 ... 1 'norm' 'buff']\n",
      " [54 0 2 ... 1 'norm' 'buff']]\n"
     ]
    }
   ],
   "source": [
    "#encoding sex\n",
    "from sklearn.preprocessing import LabelEncoder  #convert category into numeric so that it is machine readable\n",
    "le=LabelEncoder()\n",
    "X1[:,1]=le.fit_transform(X1[:,1])\n",
    "print(X1)"
   ]
  },
  {
   "cell_type": "code",
   "execution_count": null,
   "metadata": {
    "colab": {
     "background_save": true,
     "base_uri": "https://localhost:8080/"
    },
    "id": "-40uVEBhGWQw",
    "outputId": "6432a8d4-cb1c-4e63-b1df-aa265dfda8bc"
   },
   "outputs": [
    {
     "name": "stdout",
     "output_type": "stream",
     "text": [
      "[1 1 1 1 0]\n"
     ]
    }
   ],
   "source": [
    "print(X1[0:5,1])"
   ]
  },
  {
   "cell_type": "code",
   "execution_count": null,
   "metadata": {
    "colab": {
     "background_save": true,
     "base_uri": "https://localhost:8080/"
    },
    "id": "liFbfv5zGg4Z",
    "outputId": "ff971889-6dfa-49c4-e88e-82445451e31a"
   },
   "outputs": [
    {
     "name": "stdout",
     "output_type": "stream",
     "text": [
      "['tru' 'fal' 'fal' 'fal' 'fal']\n"
     ]
    }
   ],
   "source": [
    "print(X1[0:5,5])"
   ]
  },
  {
   "cell_type": "code",
   "execution_count": null,
   "metadata": {
    "colab": {
     "background_save": true,
     "base_uri": "https://localhost:8080/"
    },
    "id": "7OUfopJ2FNY1",
    "outputId": "0dac0ef0-31aa-499b-93b1-2a8610fd094e"
   },
   "outputs": [
    {
     "name": "stdout",
     "output_type": "stream",
     "text": [
      "[[63 1 3 ... 0 'fix' 'buff']\n",
      " [67 1 0 ... 3 'norm' 'sick']\n",
      " [67 1 0 ... 2 'rev' 'sick']\n",
      " ...\n",
      " [49 1 2 ... 3 'norm' 'sick']\n",
      " [74 0 1 ... 1 'norm' 'buff']\n",
      " [54 0 2 ... 1 'norm' 'buff']]\n"
     ]
    }
   ],
   "source": [
    "#encoding for fbs\n",
    "from sklearn.preprocessing import LabelEncoder\n",
    "le=LabelEncoder()\n",
    "X1[:,5]=le.fit_transform(X1[:,5])\n",
    "print(X1)"
   ]
  },
  {
   "cell_type": "code",
   "execution_count": null,
   "metadata": {
    "colab": {
     "background_save": true,
     "base_uri": "https://localhost:8080/"
    },
    "id": "NjXzPEF2Gw4X",
    "outputId": "900dd42e-b26f-4177-acd8-dae27dfb0efc"
   },
   "outputs": [
    {
     "name": "stdout",
     "output_type": "stream",
     "text": [
      "[1 0 0 0 0]\n"
     ]
    }
   ],
   "source": [
    "print(X1[0:5,5])"
   ]
  },
  {
   "cell_type": "code",
   "execution_count": null,
   "metadata": {
    "colab": {
     "background_save": true,
     "base_uri": "https://localhost:8080/"
    },
    "id": "xccCye62HLwO",
    "outputId": "34041313-cfba-41bf-e16c-3c8cace9a1e3"
   },
   "outputs": [
    {
     "name": "stdout",
     "output_type": "stream",
     "text": [
      "['fal' 'tru' 'tru' 'fal' 'fal']\n"
     ]
    }
   ],
   "source": [
    "print(X1[0:5,8])"
   ]
  },
  {
   "cell_type": "code",
   "execution_count": null,
   "metadata": {
    "colab": {
     "background_save": true,
     "base_uri": "https://localhost:8080/"
    },
    "id": "IJRwgtVHFlf1",
    "outputId": "9715f832-4951-43f7-d11c-0e294ecf54e5"
   },
   "outputs": [
    {
     "name": "stdout",
     "output_type": "stream",
     "text": [
      "[[63 1 3 ... 0 'fix' 'buff']\n",
      " [67 1 0 ... 3 'norm' 'sick']\n",
      " [67 1 0 ... 2 'rev' 'sick']\n",
      " ...\n",
      " [49 1 2 ... 3 'norm' 'sick']\n",
      " [74 0 1 ... 1 'norm' 'buff']\n",
      " [54 0 2 ... 1 'norm' 'buff']]\n"
     ]
    }
   ],
   "source": [
    "#encoding for exang\n",
    "from sklearn.preprocessing import LabelEncoder\n",
    "le=LabelEncoder()\n",
    "X1[:,8]=le.fit_transform(X1[:,8])\n",
    "print(X1)"
   ]
  },
  {
   "cell_type": "code",
   "execution_count": null,
   "metadata": {
    "colab": {
     "background_save": true,
     "base_uri": "https://localhost:8080/"
    },
    "id": "qW2BA6KzHOLJ",
    "outputId": "b3feb6bd-17c6-466b-90cc-1f03e30c3dbb"
   },
   "outputs": [
    {
     "name": "stdout",
     "output_type": "stream",
     "text": [
      "[0 1 1 0 0]\n"
     ]
    }
   ],
   "source": [
    "print(X1[0:5,8])"
   ]
  },
  {
   "cell_type": "code",
   "execution_count": null,
   "metadata": {
    "colab": {
     "background_save": true,
     "base_uri": "https://localhost:8080/"
    },
    "id": "OCoqzgTdJRce",
    "outputId": "69d061d8-f918-4e0b-eb96-3982bbf333be"
   },
   "outputs": [
    {
     "name": "stdout",
     "output_type": "stream",
     "text": [
      "['down' 'flat' 'flat' 'down' 'up']\n"
     ]
    }
   ],
   "source": [
    "print(X1[0:5,10])"
   ]
  },
  {
   "cell_type": "code",
   "execution_count": null,
   "metadata": {
    "colab": {
     "background_save": true,
     "base_uri": "https://localhost:8080/"
    },
    "id": "NNknEN0YFu7b",
    "outputId": "ef39e32a-190b-4009-b758-d25ead98568f"
   },
   "outputs": [
    {
     "name": "stdout",
     "output_type": "stream",
     "text": [
      "[[63 1 3 ... 0 'fix' 'buff']\n",
      " [67 1 0 ... 3 'norm' 'sick']\n",
      " [67 1 0 ... 2 'rev' 'sick']\n",
      " ...\n",
      " [49 1 2 ... 3 'norm' 'sick']\n",
      " [74 0 1 ... 1 'norm' 'buff']\n",
      " [54 0 2 ... 1 'norm' 'buff']]\n"
     ]
    }
   ],
   "source": [
    "#encoding for slope\n",
    "from sklearn.preprocessing import LabelEncoder\n",
    "le=LabelEncoder()\n",
    "X1[:,10]=le.fit_transform(X1[:,10])\n",
    "print(X1)"
   ]
  },
  {
   "cell_type": "code",
   "execution_count": null,
   "metadata": {
    "colab": {
     "background_save": true,
     "base_uri": "https://localhost:8080/"
    },
    "id": "GPyWh-J2JV0J",
    "outputId": "0fc47f0c-ed35-481f-e936-fafa9ad1ccbb"
   },
   "outputs": [
    {
     "name": "stdout",
     "output_type": "stream",
     "text": [
      "[0 1 1 0 2]\n"
     ]
    }
   ],
   "source": [
    "print(X1[0:5,10])"
   ]
  },
  {
   "cell_type": "code",
   "execution_count": null,
   "metadata": {
    "colab": {
     "background_save": true,
     "base_uri": "https://localhost:8080/"
    },
    "id": "63_nlZE2Jdbj",
    "outputId": "aec4cddd-d3c7-4b30-81df-d0ef04c06889"
   },
   "outputs": [
    {
     "name": "stdout",
     "output_type": "stream",
     "text": [
      "['fix' 'norm' 'rev' 'norm' 'norm']\n"
     ]
    }
   ],
   "source": [
    "print(X1[0:5,12])"
   ]
  },
  {
   "cell_type": "code",
   "execution_count": null,
   "metadata": {
    "colab": {
     "background_save": true,
     "base_uri": "https://localhost:8080/"
    },
    "id": "65If2S5GFywR",
    "outputId": "507961b9-4bc1-46d6-a1b2-b606044d3852"
   },
   "outputs": [
    {
     "name": "stdout",
     "output_type": "stream",
     "text": [
      "[[63 1 3 ... 0 0 'buff']\n",
      " [67 1 0 ... 3 1 'sick']\n",
      " [67 1 0 ... 2 2 'sick']\n",
      " ...\n",
      " [49 1 2 ... 3 1 'sick']\n",
      " [74 0 1 ... 1 1 'buff']\n",
      " [54 0 2 ... 1 1 'buff']]\n"
     ]
    }
   ],
   "source": [
    "#encoding for thal\n",
    "from sklearn.preprocessing import LabelEncoder\n",
    "le=LabelEncoder()\n",
    "X1[:,12]=le.fit_transform(X1[:,12])\n",
    "print(X1)"
   ]
  },
  {
   "cell_type": "code",
   "execution_count": null,
   "metadata": {
    "colab": {
     "background_save": true,
     "base_uri": "https://localhost:8080/"
    },
    "id": "tINtg6TzJgSH",
    "outputId": "8d837afc-1bcd-4ef7-d5a3-e4fdb5d97bbd"
   },
   "outputs": [
    {
     "name": "stdout",
     "output_type": "stream",
     "text": [
      "[0 1 2 1 1]\n"
     ]
    }
   ],
   "source": [
    "print(X1[0:5,12])"
   ]
  },
  {
   "cell_type": "code",
   "execution_count": null,
   "metadata": {
    "colab": {
     "background_save": true,
     "base_uri": "https://localhost:8080/"
    },
    "id": "KqhdwbFcJpg1",
    "outputId": "732c0738-d954-4c1a-c00e-ed40407898b7"
   },
   "outputs": [
    {
     "name": "stdout",
     "output_type": "stream",
     "text": [
      "['buff' 'sick' 'sick' 'buff' 'buff']\n"
     ]
    }
   ],
   "source": [
    "print(X1[0:5,13])"
   ]
  },
  {
   "cell_type": "code",
   "execution_count": null,
   "metadata": {
    "colab": {
     "background_save": true,
     "base_uri": "https://localhost:8080/"
    },
    "id": "X54fquEGF3Sm",
    "outputId": "5616066e-f098-41ca-e406-9af07829611a"
   },
   "outputs": [
    {
     "name": "stdout",
     "output_type": "stream",
     "text": [
      "[[63 1 3 ... 0 0 0]\n",
      " [67 1 0 ... 3 1 1]\n",
      " [67 1 0 ... 2 2 1]\n",
      " ...\n",
      " [49 1 2 ... 3 1 1]\n",
      " [74 0 1 ... 1 1 0]\n",
      " [54 0 2 ... 1 1 0]]\n"
     ]
    }
   ],
   "source": [
    "#encoding for target\n",
    "from sklearn.preprocessing import LabelEncoder\n",
    "le=LabelEncoder()\n",
    "X1[:,13]=le.fit_transform(X1[:,13])\n",
    "print(X1)"
   ]
  },
  {
   "cell_type": "code",
   "execution_count": null,
   "metadata": {
    "colab": {
     "background_save": true,
     "base_uri": "https://localhost:8080/"
    },
    "id": "A-rGHULcJstw",
    "outputId": "187c7703-526a-4f2d-dfc8-c86b3d056a34"
   },
   "outputs": [
    {
     "name": "stdout",
     "output_type": "stream",
     "text": [
      "[0 1 1 0 0]\n"
     ]
    }
   ],
   "source": [
    "print(X1[0:5,13])"
   ]
  },
  {
   "cell_type": "code",
   "execution_count": null,
   "metadata": {
    "colab": {
     "background_save": true,
     "base_uri": "https://localhost:8080/"
    },
    "id": "_2H2ElOXF6FC",
    "outputId": "4f9bc6b6-6d92-4388-c5cf-a8f028851a31"
   },
   "outputs": [
    {
     "name": "stdout",
     "output_type": "stream",
     "text": [
      "    age sex cp trestbps chol fbs restecg thalach exang oldpeak slope ca thal  \\\n",
      "0    63   1  3      145  233   1       0     150     0     2.3     0  0    0   \n",
      "1    67   1  0      160  286   0       0     108     1     1.5     1  3    1   \n",
      "2    67   1  0      120  229   0       0     129     1     2.6     1  2    2   \n",
      "3    37   1  2      130  250   0       1     187     0     3.5     0  0    1   \n",
      "4    41   0  1      130  204   0       0     172     0     1.4     2  0    1   \n",
      "..   ..  .. ..      ...  ...  ..     ...     ...   ...     ...   ... ..  ...   \n",
      "298  48   1  2      124  255   1       1     175     0     0.0     2  2    1   \n",
      "299  57   1  0      132  207   0       1     168     1     0.0     2  0    2   \n",
      "300  49   1  2      118  149   0       0     126     0     0.8     2  3    1   \n",
      "301  74   0  1      120  269   0       0     121     1     0.2     2  1    1   \n",
      "302  54   0  2      160  201   0       1     163     0     0.0     2  1    1   \n",
      "\n",
      "    target  \n",
      "0        0  \n",
      "1        1  \n",
      "2        1  \n",
      "3        0  \n",
      "4        0  \n",
      "..     ...  \n",
      "298      0  \n",
      "299      0  \n",
      "300      1  \n",
      "301      0  \n",
      "302      0  \n",
      "\n",
      "[303 rows x 14 columns]\n"
     ]
    }
   ],
   "source": [
    "data = pd.DataFrame(X1, columns = ['age','sex','cp','trestbps','chol','fbs','restecg','thalach','exang','oldpeak','slope','ca','thal','target'])\n",
    "print(data)"
   ]
  },
  {
   "cell_type": "markdown",
   "metadata": {
    "id": "unzwYOxY6yH_"
   },
   "source": [
    "#Checking null values"
   ]
  },
  {
   "cell_type": "code",
   "execution_count": null,
   "metadata": {
    "colab": {
     "background_save": true,
     "base_uri": "https://localhost:8080/"
    },
    "id": "gAoFbaNvCDvh",
    "outputId": "daac3f0b-535d-4be6-ed50-e72732e99a32"
   },
   "outputs": [
    {
     "name": "stdout",
     "output_type": "stream",
     "text": [
      "age         0\n",
      "sex         0\n",
      "cp          0\n",
      "trestbps    0\n",
      "chol        0\n",
      "fbs         0\n",
      "restecg     0\n",
      "thalach     0\n",
      "exang       0\n",
      "oldpeak     0\n",
      "slope       0\n",
      "ca          0\n",
      "thal        0\n",
      "target      0\n",
      "dtype: int64\n"
     ]
    }
   ],
   "source": [
    "print(data.isnull().sum())  #no of null values in each column"
   ]
  },
  {
   "cell_type": "markdown",
   "metadata": {
    "id": "CvrkH8P764LL"
   },
   "source": [
    "#Checking data types of each column"
   ]
  },
  {
   "cell_type": "code",
   "execution_count": null,
   "metadata": {
    "colab": {
     "background_save": true,
     "base_uri": "https://localhost:8080/"
    },
    "id": "aYv0ngd05l23",
    "outputId": "75e981c7-4c3a-4044-c9d6-5161ef8e357a"
   },
   "outputs": [
    {
     "name": "stdout",
     "output_type": "stream",
     "text": [
      "<class 'pandas.core.frame.DataFrame'>\n",
      "RangeIndex: 303 entries, 0 to 302\n",
      "Data columns (total 14 columns):\n",
      " #   Column    Non-Null Count  Dtype \n",
      "---  ------    --------------  ----- \n",
      " 0   age       303 non-null    object\n",
      " 1   sex       303 non-null    object\n",
      " 2   cp        303 non-null    object\n",
      " 3   trestbps  303 non-null    object\n",
      " 4   chol      303 non-null    object\n",
      " 5   fbs       303 non-null    object\n",
      " 6   restecg   303 non-null    object\n",
      " 7   thalach   303 non-null    object\n",
      " 8   exang     303 non-null    object\n",
      " 9   oldpeak   303 non-null    object\n",
      " 10  slope     303 non-null    object\n",
      " 11  ca        303 non-null    object\n",
      " 12  thal      303 non-null    object\n",
      " 13  target    303 non-null    object\n",
      "dtypes: object(14)\n",
      "memory usage: 33.3+ KB\n",
      "None\n"
     ]
    }
   ],
   "source": [
    "print(data.info())  #prints info about dataframe"
   ]
  },
  {
   "cell_type": "code",
   "execution_count": null,
   "metadata": {
    "colab": {
     "background_save": true
    },
    "id": "mQwTNS_-Gmh3"
   },
   "outputs": [],
   "source": [
    "dict_columns_type = {'age': int,'sex': int,'cp': int,'trestbps': int,'chol': int,'fbs': int,'restecg': int,'thalach': int,'exang': int,'oldpeak': float,'slope': int,'ca': int,'thal': int,'target': int}\n",
    "data = data.astype(dict_columns_type)"
   ]
  },
  {
   "cell_type": "code",
   "execution_count": null,
   "metadata": {
    "colab": {
     "background_save": true
    },
    "id": "v65wgKnQ1S9Z"
   },
   "outputs": [],
   "source": [
    "data['thal'] = data['thal'].map({0:1,\n",
    "                             1:2,\n",
    "                             2:3,\n",
    "                             3:0},\n",
    "                             na_action=None)  #none"
   ]
  },
  {
   "cell_type": "code",
   "execution_count": null,
   "metadata": {
    "colab": {
     "background_save": true
    },
    "id": "JJjvdLXE_yVT"
   },
   "outputs": [],
   "source": [
    "data['target'] = data['target'].map({0:1,1:0},\n",
    "                             na_action=None)"
   ]
  },
  {
   "cell_type": "code",
   "execution_count": null,
   "metadata": {
    "colab": {
     "background_save": true
    },
    "id": "p7qhmgqtAl8v"
   },
   "outputs": [],
   "source": [
    "data['exang'] = data['exang'].map({0:1,1:0},\n",
    "                             na_action=None)\n",
    "data['fbs'] = data['fbs'].map({0:1,1:0},\n",
    "                             na_action=None)"
   ]
  },
  {
   "cell_type": "code",
   "execution_count": null,
   "metadata": {
    "colab": {
     "background_save": true,
     "base_uri": "https://localhost:8080/"
    },
    "id": "LAZZkumaHJU_",
    "outputId": "6dd7ce93-0b45-4b67-85a4-1686a13d6044"
   },
   "outputs": [
    {
     "name": "stdout",
     "output_type": "stream",
     "text": [
      "<class 'pandas.core.frame.DataFrame'>\n",
      "RangeIndex: 303 entries, 0 to 302\n",
      "Data columns (total 14 columns):\n",
      " #   Column    Non-Null Count  Dtype  \n",
      "---  ------    --------------  -----  \n",
      " 0   age       303 non-null    int64  \n",
      " 1   sex       303 non-null    int64  \n",
      " 2   cp        303 non-null    int64  \n",
      " 3   trestbps  303 non-null    int64  \n",
      " 4   chol      303 non-null    int64  \n",
      " 5   fbs       303 non-null    int64  \n",
      " 6   restecg   303 non-null    int64  \n",
      " 7   thalach   303 non-null    int64  \n",
      " 8   exang     303 non-null    int64  \n",
      " 9   oldpeak   303 non-null    float64\n",
      " 10  slope     303 non-null    int64  \n",
      " 11  ca        303 non-null    int64  \n",
      " 12  thal      303 non-null    int64  \n",
      " 13  target    303 non-null    int64  \n",
      "dtypes: float64(1), int64(13)\n",
      "memory usage: 33.3 KB\n",
      "None\n"
     ]
    }
   ],
   "source": [
    "print(data.info())"
   ]
  },
  {
   "cell_type": "code",
   "execution_count": null,
   "metadata": {
    "colab": {
     "background_save": true,
     "base_uri": "https://localhost:8080/",
     "height": 364
    },
    "id": "NhSrLqSe79f7",
    "outputId": "601a04a6-00a7-405c-e94a-be363e549207"
   },
   "outputs": [
    {
     "data": {
      "text/html": [
       "\n",
       "  <div id=\"df-7c6283a4-a159-47ae-bfef-f50fcdd1b78d\">\n",
       "    <div class=\"colab-df-container\">\n",
       "      <div>\n",
       "<style scoped>\n",
       "    .dataframe tbody tr th:only-of-type {\n",
       "        vertical-align: middle;\n",
       "    }\n",
       "\n",
       "    .dataframe tbody tr th {\n",
       "        vertical-align: top;\n",
       "    }\n",
       "\n",
       "    .dataframe thead th {\n",
       "        text-align: right;\n",
       "    }\n",
       "</style>\n",
       "<table border=\"1\" class=\"dataframe\">\n",
       "  <thead>\n",
       "    <tr style=\"text-align: right;\">\n",
       "      <th></th>\n",
       "      <th>age</th>\n",
       "      <th>sex</th>\n",
       "      <th>cp</th>\n",
       "      <th>trestbps</th>\n",
       "      <th>chol</th>\n",
       "      <th>fbs</th>\n",
       "      <th>restecg</th>\n",
       "      <th>thalach</th>\n",
       "      <th>exang</th>\n",
       "      <th>oldpeak</th>\n",
       "      <th>slope</th>\n",
       "      <th>ca</th>\n",
       "      <th>thal</th>\n",
       "      <th>target</th>\n",
       "    </tr>\n",
       "  </thead>\n",
       "  <tbody>\n",
       "    <tr>\n",
       "      <th>count</th>\n",
       "      <td>303.000000</td>\n",
       "      <td>303.000000</td>\n",
       "      <td>303.000000</td>\n",
       "      <td>303.000000</td>\n",
       "      <td>303.000000</td>\n",
       "      <td>303.000000</td>\n",
       "      <td>303.000000</td>\n",
       "      <td>303.000000</td>\n",
       "      <td>303.000000</td>\n",
       "      <td>303.000000</td>\n",
       "      <td>303.000000</td>\n",
       "      <td>303.000000</td>\n",
       "      <td>303.000000</td>\n",
       "      <td>303.000000</td>\n",
       "    </tr>\n",
       "    <tr>\n",
       "      <th>mean</th>\n",
       "      <td>54.366337</td>\n",
       "      <td>0.683168</td>\n",
       "      <td>0.966997</td>\n",
       "      <td>131.623762</td>\n",
       "      <td>246.264026</td>\n",
       "      <td>0.851485</td>\n",
       "      <td>0.528053</td>\n",
       "      <td>149.646865</td>\n",
       "      <td>0.673267</td>\n",
       "      <td>1.039604</td>\n",
       "      <td>1.399340</td>\n",
       "      <td>0.729373</td>\n",
       "      <td>2.313531</td>\n",
       "      <td>0.544554</td>\n",
       "    </tr>\n",
       "    <tr>\n",
       "      <th>std</th>\n",
       "      <td>9.082101</td>\n",
       "      <td>0.466011</td>\n",
       "      <td>1.032052</td>\n",
       "      <td>17.538143</td>\n",
       "      <td>51.830751</td>\n",
       "      <td>0.356198</td>\n",
       "      <td>0.525860</td>\n",
       "      <td>22.905161</td>\n",
       "      <td>0.469794</td>\n",
       "      <td>1.161075</td>\n",
       "      <td>0.616226</td>\n",
       "      <td>1.022606</td>\n",
       "      <td>0.612277</td>\n",
       "      <td>0.498835</td>\n",
       "    </tr>\n",
       "    <tr>\n",
       "      <th>min</th>\n",
       "      <td>29.000000</td>\n",
       "      <td>0.000000</td>\n",
       "      <td>0.000000</td>\n",
       "      <td>94.000000</td>\n",
       "      <td>126.000000</td>\n",
       "      <td>0.000000</td>\n",
       "      <td>0.000000</td>\n",
       "      <td>71.000000</td>\n",
       "      <td>0.000000</td>\n",
       "      <td>0.000000</td>\n",
       "      <td>0.000000</td>\n",
       "      <td>0.000000</td>\n",
       "      <td>0.000000</td>\n",
       "      <td>0.000000</td>\n",
       "    </tr>\n",
       "    <tr>\n",
       "      <th>25%</th>\n",
       "      <td>47.500000</td>\n",
       "      <td>0.000000</td>\n",
       "      <td>0.000000</td>\n",
       "      <td>120.000000</td>\n",
       "      <td>211.000000</td>\n",
       "      <td>1.000000</td>\n",
       "      <td>0.000000</td>\n",
       "      <td>133.500000</td>\n",
       "      <td>0.000000</td>\n",
       "      <td>0.000000</td>\n",
       "      <td>1.000000</td>\n",
       "      <td>0.000000</td>\n",
       "      <td>2.000000</td>\n",
       "      <td>0.000000</td>\n",
       "    </tr>\n",
       "    <tr>\n",
       "      <th>50%</th>\n",
       "      <td>55.000000</td>\n",
       "      <td>1.000000</td>\n",
       "      <td>1.000000</td>\n",
       "      <td>130.000000</td>\n",
       "      <td>240.000000</td>\n",
       "      <td>1.000000</td>\n",
       "      <td>1.000000</td>\n",
       "      <td>153.000000</td>\n",
       "      <td>1.000000</td>\n",
       "      <td>0.800000</td>\n",
       "      <td>1.000000</td>\n",
       "      <td>0.000000</td>\n",
       "      <td>2.000000</td>\n",
       "      <td>1.000000</td>\n",
       "    </tr>\n",
       "    <tr>\n",
       "      <th>75%</th>\n",
       "      <td>61.000000</td>\n",
       "      <td>1.000000</td>\n",
       "      <td>2.000000</td>\n",
       "      <td>140.000000</td>\n",
       "      <td>274.500000</td>\n",
       "      <td>1.000000</td>\n",
       "      <td>1.000000</td>\n",
       "      <td>166.000000</td>\n",
       "      <td>1.000000</td>\n",
       "      <td>1.600000</td>\n",
       "      <td>2.000000</td>\n",
       "      <td>1.000000</td>\n",
       "      <td>3.000000</td>\n",
       "      <td>1.000000</td>\n",
       "    </tr>\n",
       "    <tr>\n",
       "      <th>max</th>\n",
       "      <td>77.000000</td>\n",
       "      <td>1.000000</td>\n",
       "      <td>3.000000</td>\n",
       "      <td>200.000000</td>\n",
       "      <td>564.000000</td>\n",
       "      <td>1.000000</td>\n",
       "      <td>2.000000</td>\n",
       "      <td>202.000000</td>\n",
       "      <td>1.000000</td>\n",
       "      <td>6.200000</td>\n",
       "      <td>2.000000</td>\n",
       "      <td>4.000000</td>\n",
       "      <td>3.000000</td>\n",
       "      <td>1.000000</td>\n",
       "    </tr>\n",
       "  </tbody>\n",
       "</table>\n",
       "</div>\n",
       "      <button class=\"colab-df-convert\" onclick=\"convertToInteractive('df-7c6283a4-a159-47ae-bfef-f50fcdd1b78d')\"\n",
       "              title=\"Convert this dataframe to an interactive table.\"\n",
       "              style=\"display:none;\">\n",
       "        \n",
       "  <svg xmlns=\"http://www.w3.org/2000/svg\" height=\"24px\"viewBox=\"0 0 24 24\"\n",
       "       width=\"24px\">\n",
       "    <path d=\"M0 0h24v24H0V0z\" fill=\"none\"/>\n",
       "    <path d=\"M18.56 5.44l.94 2.06.94-2.06 2.06-.94-2.06-.94-.94-2.06-.94 2.06-2.06.94zm-11 1L8.5 8.5l.94-2.06 2.06-.94-2.06-.94L8.5 2.5l-.94 2.06-2.06.94zm10 10l.94 2.06.94-2.06 2.06-.94-2.06-.94-.94-2.06-.94 2.06-2.06.94z\"/><path d=\"M17.41 7.96l-1.37-1.37c-.4-.4-.92-.59-1.43-.59-.52 0-1.04.2-1.43.59L10.3 9.45l-7.72 7.72c-.78.78-.78 2.05 0 2.83L4 21.41c.39.39.9.59 1.41.59.51 0 1.02-.2 1.41-.59l7.78-7.78 2.81-2.81c.8-.78.8-2.07 0-2.86zM5.41 20L4 18.59l7.72-7.72 1.47 1.35L5.41 20z\"/>\n",
       "  </svg>\n",
       "      </button>\n",
       "      \n",
       "  <style>\n",
       "    .colab-df-container {\n",
       "      display:flex;\n",
       "      flex-wrap:wrap;\n",
       "      gap: 12px;\n",
       "    }\n",
       "\n",
       "    .colab-df-convert {\n",
       "      background-color: #E8F0FE;\n",
       "      border: none;\n",
       "      border-radius: 50%;\n",
       "      cursor: pointer;\n",
       "      display: none;\n",
       "      fill: #1967D2;\n",
       "      height: 32px;\n",
       "      padding: 0 0 0 0;\n",
       "      width: 32px;\n",
       "    }\n",
       "\n",
       "    .colab-df-convert:hover {\n",
       "      background-color: #E2EBFA;\n",
       "      box-shadow: 0px 1px 2px rgba(60, 64, 67, 0.3), 0px 1px 3px 1px rgba(60, 64, 67, 0.15);\n",
       "      fill: #174EA6;\n",
       "    }\n",
       "\n",
       "    [theme=dark] .colab-df-convert {\n",
       "      background-color: #3B4455;\n",
       "      fill: #D2E3FC;\n",
       "    }\n",
       "\n",
       "    [theme=dark] .colab-df-convert:hover {\n",
       "      background-color: #434B5C;\n",
       "      box-shadow: 0px 1px 3px 1px rgba(0, 0, 0, 0.15);\n",
       "      filter: drop-shadow(0px 1px 2px rgba(0, 0, 0, 0.3));\n",
       "      fill: #FFFFFF;\n",
       "    }\n",
       "  </style>\n",
       "\n",
       "      <script>\n",
       "        const buttonEl =\n",
       "          document.querySelector('#df-7c6283a4-a159-47ae-bfef-f50fcdd1b78d button.colab-df-convert');\n",
       "        buttonEl.style.display =\n",
       "          google.colab.kernel.accessAllowed ? 'block' : 'none';\n",
       "\n",
       "        async function convertToInteractive(key) {\n",
       "          const element = document.querySelector('#df-7c6283a4-a159-47ae-bfef-f50fcdd1b78d');\n",
       "          const dataTable =\n",
       "            await google.colab.kernel.invokeFunction('convertToInteractive',\n",
       "                                                     [key], {});\n",
       "          if (!dataTable) return;\n",
       "\n",
       "          const docLinkHtml = 'Like what you see? Visit the ' +\n",
       "            '<a target=\"_blank\" href=https://colab.research.google.com/notebooks/data_table.ipynb>data table notebook</a>'\n",
       "            + ' to learn more about interactive tables.';\n",
       "          element.innerHTML = '';\n",
       "          dataTable['output_type'] = 'display_data';\n",
       "          await google.colab.output.renderOutput(dataTable, element);\n",
       "          const docLink = document.createElement('div');\n",
       "          docLink.innerHTML = docLinkHtml;\n",
       "          element.appendChild(docLink);\n",
       "        }\n",
       "      </script>\n",
       "    </div>\n",
       "  </div>\n",
       "  "
      ],
      "text/plain": [
       "              age         sex          cp    trestbps        chol         fbs  \\\n",
       "count  303.000000  303.000000  303.000000  303.000000  303.000000  303.000000   \n",
       "mean    54.366337    0.683168    0.966997  131.623762  246.264026    0.851485   \n",
       "std      9.082101    0.466011    1.032052   17.538143   51.830751    0.356198   \n",
       "min     29.000000    0.000000    0.000000   94.000000  126.000000    0.000000   \n",
       "25%     47.500000    0.000000    0.000000  120.000000  211.000000    1.000000   \n",
       "50%     55.000000    1.000000    1.000000  130.000000  240.000000    1.000000   \n",
       "75%     61.000000    1.000000    2.000000  140.000000  274.500000    1.000000   \n",
       "max     77.000000    1.000000    3.000000  200.000000  564.000000    1.000000   \n",
       "\n",
       "          restecg     thalach       exang     oldpeak       slope          ca  \\\n",
       "count  303.000000  303.000000  303.000000  303.000000  303.000000  303.000000   \n",
       "mean     0.528053  149.646865    0.673267    1.039604    1.399340    0.729373   \n",
       "std      0.525860   22.905161    0.469794    1.161075    0.616226    1.022606   \n",
       "min      0.000000   71.000000    0.000000    0.000000    0.000000    0.000000   \n",
       "25%      0.000000  133.500000    0.000000    0.000000    1.000000    0.000000   \n",
       "50%      1.000000  153.000000    1.000000    0.800000    1.000000    0.000000   \n",
       "75%      1.000000  166.000000    1.000000    1.600000    2.000000    1.000000   \n",
       "max      2.000000  202.000000    1.000000    6.200000    2.000000    4.000000   \n",
       "\n",
       "             thal      target  \n",
       "count  303.000000  303.000000  \n",
       "mean     2.313531    0.544554  \n",
       "std      0.612277    0.498835  \n",
       "min      0.000000    0.000000  \n",
       "25%      2.000000    0.000000  \n",
       "50%      2.000000    1.000000  \n",
       "75%      3.000000    1.000000  \n",
       "max      3.000000    1.000000  "
      ]
     },
     "execution_count": null,
     "metadata": {},
     "output_type": "execute_result"
    }
   ],
   "source": [
    "data.describe()"
   ]
  },
  {
   "cell_type": "markdown",
   "metadata": {
    "id": "UxEzLlr28l6a"
   },
   "source": [
    "#Dataset Description"
   ]
  },
  {
   "cell_type": "code",
   "execution_count": null,
   "metadata": {
    "colab": {
     "background_save": true,
     "base_uri": "https://localhost:8080/"
    },
    "id": "EWAWBQYH8Gzk",
    "outputId": "ad4f903d-2dbc-45e2-da36-4cc58718e846"
   },
   "outputs": [
    {
     "name": "stdout",
     "output_type": "stream",
     "text": [
      "age:\t\t\tage\n",
      "sex:\t\t\t1: male, 0: female\n",
      "cp:\t\t\tchest pain type, 1: typical angina, 2: atypical angina, 3: non-anginal pain, 4: asymptomatic\n",
      "trestbps:\t\t\tresting blood pressure\n",
      "chol:\t\t\t serum cholestoral in mg/dl\n",
      "fbs:\t\t\tfasting blood sugar > 120 mg/dl\n",
      "restecg:\t\t\tresting electrocardiographic results (values 0,1,2)\n",
      "thalach:\t\t\t maximum heart rate achieved\n",
      "exang:\t\t\texercise induced angina\n",
      "oldpeak:\t\t\toldpeak = ST depression induced by exercise relative to rest\n",
      "slope:\t\t\tthe slope of the peak exercise ST segment\n",
      "ca:\t\t\tnumber of major vessels (0-3) colored by flourosopy\n",
      "thal:\t\t\tthal: 3 = normal; 6 = fixed defect; 7 = reversable defect\n"
     ]
    }
   ],
   "source": [
    "info = [\"age\",\"1: male, 0: female\",\"chest pain type, 1: typical angina, 2: atypical angina, 3: non-anginal pain, 4: asymptomatic\",\"resting blood pressure\",\" serum cholestoral in mg/dl\",\"fasting blood sugar > 120 mg/dl\",\"resting electrocardiographic results (values 0,1,2)\",\" maximum heart rate achieved\",\"exercise induced angina\",\"oldpeak = ST depression induced by exercise relative to rest\",\"the slope of the peak exercise ST segment\",\"number of major vessels (0-3) colored by flourosopy\",\"thal: 3 = normal; 6 = fixed defect; 7 = reversable defect\"]\n",
    "\n",
    "\n",
    "\n",
    "for i in range(len(info)):\n",
    "    print(data.columns[i]+\":\\t\\t\\t\"+info[i])"
   ]
  },
  {
   "cell_type": "markdown",
   "metadata": {
    "id": "FpZwwvJw9UDq"
   },
   "source": [
    "#Standard Deviation of all attributes"
   ]
  },
  {
   "cell_type": "code",
   "execution_count": null,
   "metadata": {
    "colab": {
     "background_save": true,
     "base_uri": "https://localhost:8080/"
    },
    "id": "oEuh87tQ9GQd",
    "outputId": "ed9f2324-8512-42f1-eee4-3b22a8e162e4"
   },
   "outputs": [
    {
     "data": {
      "text/plain": [
       "age          9.082101\n",
       "sex          0.466011\n",
       "cp           1.032052\n",
       "trestbps    17.538143\n",
       "chol        51.830751\n",
       "fbs          0.356198\n",
       "restecg      0.525860\n",
       "thalach     22.905161\n",
       "exang        0.469794\n",
       "oldpeak      1.161075\n",
       "slope        0.616226\n",
       "ca           1.022606\n",
       "thal         0.612277\n",
       "target       0.498835\n",
       "dtype: float64"
      ]
     },
     "execution_count": null,
     "metadata": {},
     "output_type": "execute_result"
    }
   ],
   "source": [
    "data.std()  #to know how data is spread out"
   ]
  },
  {
   "cell_type": "code",
   "execution_count": null,
   "metadata": {
    "colab": {
     "background_save": true,
     "base_uri": "https://localhost:8080/"
    },
    "id": "E7xbEGBXUMQZ",
    "outputId": "93d0f580-a1e5-4c43-f38c-39c0b7271636"
   },
   "outputs": [
    {
     "name": "stdout",
     "output_type": "stream",
     "text": [
      "204\n",
      "165\n",
      "142\n"
     ]
    }
   ],
   "source": [
    "import math\n",
    "sum_X = 0\n",
    "sum_Y = 0\n",
    "sum_XY = 0\n",
    "squareSum_X = 0\n",
    "squareSum_Y = 0   \n",
    "n=303\n",
    "i = 0\n",
    "while i < n :\n",
    "  sum_X = sum(data['exang'])\n",
    "  sum_Y = sum(data['target'])      \n",
    "  sum_XY = sum(data['target']*data['exang'])\n",
    "  squareSum_X =sum(data['exang']*data['exang'])\n",
    "  squareSum_Y =sum(data['target']*data['target'])\n",
    "  i = i + 1\n",
    "print(sum_X)\n",
    "print(sum_Y)\n",
    "print(sum_XY)"
   ]
  },
  {
   "cell_type": "code",
   "execution_count": null,
   "metadata": {
    "colab": {
     "background_save": true,
     "base_uri": "https://localhost:8080/"
    },
    "id": "PNSB9txWWKz5",
    "outputId": "46880988-6521-48a1-a396-73ed3df9a1ca"
   },
   "outputs": [
    {
     "name": "stdout",
     "output_type": "stream",
     "text": [
      "20196\n",
      "22770\n",
      "0.4367570833533031\n"
     ]
    }
   ],
   "source": [
    "# use formula for calculating correlation \n",
    "# coefficient.\n",
    "num=(float)(n * sum_XY - sum_X * sum_Y)\n",
    "p=(n * squareSum_X - sum_X * sum_X)\n",
    "q= (n * squareSum_Y - sum_Y * sum_Y)\n",
    "print(p)\n",
    "print(q)\n",
    "corr = (float)(n * sum_XY - sum_X * sum_Y)/(float)(math.sqrt((n * squareSum_X - sum_X * sum_X)* (n * squareSum_Y - sum_Y * sum_Y)))\n",
    "print(corr)"
   ]
  },
  {
   "cell_type": "code",
   "execution_count": null,
   "metadata": {
    "colab": {
     "background_save": true,
     "base_uri": "https://localhost:8080/"
    },
    "id": "tsYjv5jZbr4Z",
    "outputId": "638f8b76-cd14-4bbe-ae05-160cf25c7986"
   },
   "outputs": [
    {
     "name": "stdout",
     "output_type": "stream",
     "text": [
      "293\n",
      "165\n",
      "227\n"
     ]
    }
   ],
   "source": [
    "import math\n",
    "sum_X = 0\n",
    "sum_Y = 0\n",
    "sum_XY = 0\n",
    "squareSum_X = 0\n",
    "squareSum_Y = 0   \n",
    "n=303\n",
    "i = 0\n",
    "while i < n :\n",
    "  sum_X = sum(data['cp'])\n",
    "  sum_Y = sum(data['target'])      \n",
    "  sum_XY = sum(data['target']*data['cp'])\n",
    "  squareSum_X =sum(data['cp']*data['cp'])\n",
    "  squareSum_Y =sum(data['target']*data['target'])\n",
    "  i = i + 1\n",
    "print(sum_X)\n",
    "print(sum_Y)\n",
    "print(sum_XY)"
   ]
  },
  {
   "cell_type": "code",
   "execution_count": null,
   "metadata": {
    "colab": {
     "background_save": true,
     "base_uri": "https://localhost:8080/"
    },
    "id": "uC8QjkPWbwDe",
    "outputId": "9a52a67f-bd1d-4013-f5ba-93fdeb9c9343"
   },
   "outputs": [
    {
     "name": "stdout",
     "output_type": "stream",
     "text": [
      "97466\n",
      "22770\n",
      "0.43379826150689427\n"
     ]
    }
   ],
   "source": [
    "# use formula for calculating correlation \n",
    "# coefficient.\n",
    "num=(float)(n * sum_XY - sum_X * sum_Y)\n",
    "p=(n * squareSum_X - sum_X * sum_X)\n",
    "q= (n * squareSum_Y - sum_Y * sum_Y)\n",
    "print(p)\n",
    "print(q)\n",
    "corr = (float)(n * sum_XY - sum_X * sum_Y)/(float)(math.sqrt((n * squareSum_X - sum_X * sum_X)* (n * squareSum_Y - sum_Y * sum_Y)))\n",
    "print(corr)"
   ]
  },
  {
   "cell_type": "code",
   "execution_count": null,
   "metadata": {
    "colab": {
     "background_save": true,
     "base_uri": "https://localhost:8080/"
    },
    "id": "2J0i6tLFb4yJ",
    "outputId": "3aab13d1-f0c2-41dc-d7ab-8e30d9dff0bc"
   },
   "outputs": [
    {
     "name": "stdout",
     "output_type": "stream",
     "text": [
      "314.9999999999999\n",
      "165\n",
      "96.19999999999997\n"
     ]
    }
   ],
   "source": [
    "import math\n",
    "sum_X = 0\n",
    "sum_Y = 0\n",
    "sum_XY = 0\n",
    "squareSum_X = 0\n",
    "squareSum_Y = 0   \n",
    "n=303\n",
    "i = 0\n",
    "while i < n :\n",
    "  sum_X = sum(data['oldpeak'])\n",
    "  sum_Y = sum(data['target'])      \n",
    "  sum_XY = sum(data['target']*data['oldpeak'])\n",
    "  squareSum_X =sum(data['oldpeak']*data['oldpeak'])\n",
    "  squareSum_Y =sum(data['target']*data['target'])\n",
    "  i = i + 1\n",
    "print(sum_X)\n",
    "print(sum_Y)\n",
    "print(sum_XY)"
   ]
  },
  {
   "cell_type": "code",
   "execution_count": null,
   "metadata": {
    "colab": {
     "background_save": true,
     "base_uri": "https://localhost:8080/"
    },
    "id": "6CGh3eqwbwyP",
    "outputId": "3cb5abb5-7fea-478e-b466-f2d6e64ca3fc"
   },
   "outputs": [
    {
     "name": "stdout",
     "output_type": "stream",
     "text": [
      "123358.80000000003\n",
      "22770\n",
      "-0.43069600168736843\n"
     ]
    }
   ],
   "source": [
    "# use formula for calculating correlation \n",
    "# coefficient.\n",
    "num=(float)(n * sum_XY - sum_X * sum_Y)\n",
    "p=(n * squareSum_X - sum_X * sum_X)\n",
    "q= (n * squareSum_Y - sum_Y * sum_Y)\n",
    "print(p)\n",
    "print(q)\n",
    "corr = (float)(n * sum_XY - sum_X * sum_Y)/(float)(math.sqrt((n * squareSum_X - sum_X * sum_X)* (n * squareSum_Y - sum_Y * sum_Y)))\n",
    "print(corr)"
   ]
  },
  {
   "cell_type": "code",
   "execution_count": null,
   "metadata": {
    "colab": {
     "background_save": true,
     "base_uri": "https://localhost:8080/"
    },
    "id": "N3puZQcgb6Jn",
    "outputId": "0d64de6c-f784-4d90-cd86-68bfcca7a32e"
   },
   "outputs": [
    {
     "name": "stdout",
     "output_type": "stream",
     "text": [
      "45343\n",
      "165\n",
      "26147\n"
     ]
    }
   ],
   "source": [
    "import math\n",
    "sum_X = 0\n",
    "sum_Y = 0\n",
    "sum_XY = 0\n",
    "squareSum_X = 0\n",
    "squareSum_Y = 0   \n",
    "n=303\n",
    "i = 0\n",
    "while i < n :\n",
    "  sum_X = sum(data['thalach'])\n",
    "  sum_Y = sum(data['target'])      \n",
    "  sum_XY = sum(data['target']*data['thalach'])\n",
    "  squareSum_X =sum(data['thalach']*data['thalach'])\n",
    "  squareSum_Y =sum(data['target']*data['target'])\n",
    "  i = i + 1\n",
    "print(sum_X)\n",
    "print(sum_Y)\n",
    "print(sum_XY)"
   ]
  },
  {
   "cell_type": "code",
   "execution_count": null,
   "metadata": {
    "colab": {
     "background_save": true,
     "base_uri": "https://localhost:8080/"
    },
    "id": "XD7uRnK8bx87",
    "outputId": "1fcab342-2ac1-461a-8f1f-6b86e8f30a71"
   },
   "outputs": [
    {
     "name": "stdout",
     "output_type": "stream",
     "text": [
      "48008294\n",
      "22770\n",
      "0.42174093381067457\n"
     ]
    }
   ],
   "source": [
    "# use formula for calculating correlation \n",
    "# coefficient.\n",
    "num=(float)(n * sum_XY - sum_X * sum_Y)\n",
    "p=(n * squareSum_X - sum_X * sum_X)\n",
    "q= (n * squareSum_Y - sum_Y * sum_Y)\n",
    "print(p)\n",
    "print(q)\n",
    "corr = (float)(n * sum_XY - sum_X * sum_Y)/(float)(math.sqrt((n * squareSum_X - sum_X * sum_X)* (n * squareSum_Y - sum_Y * sum_Y)))\n",
    "print(corr)"
   ]
  },
  {
   "cell_type": "code",
   "execution_count": null,
   "metadata": {
    "colab": {
     "background_save": true,
     "base_uri": "https://localhost:8080/"
    },
    "id": "nyHqOnG6b6-T",
    "outputId": "7abc3e91-e8c1-4b38-d750-dd641c335619"
   },
   "outputs": [
    {
     "name": "stdout",
     "output_type": "stream",
     "text": [
      "221\n",
      "165\n",
      "60\n"
     ]
    }
   ],
   "source": [
    "import math\n",
    "sum_X = 0\n",
    "sum_Y = 0\n",
    "sum_XY = 0\n",
    "squareSum_X = 0\n",
    "squareSum_Y = 0   \n",
    "n=303\n",
    "i = 0\n",
    "while i < n :\n",
    "  sum_X = sum(data['ca'])\n",
    "  sum_Y = sum(data['target'])      \n",
    "  sum_XY = sum(data['target']*data['ca'])\n",
    "  squareSum_X =sum(data['ca']*data['ca'])\n",
    "  squareSum_Y =sum(data['target']*data['target'])\n",
    "  i = i + 1\n",
    "print(sum_X)\n",
    "print(sum_Y)\n",
    "print(sum_XY)"
   ]
  },
  {
   "cell_type": "code",
   "execution_count": null,
   "metadata": {
    "colab": {
     "background_save": true,
     "base_uri": "https://localhost:8080/"
    },
    "id": "x0AAtjcfbyug",
    "outputId": "f5565867-12da-4066-80f8-221a6029d7cb"
   },
   "outputs": [
    {
     "name": "stdout",
     "output_type": "stream",
     "text": [
      "95690\n",
      "22770\n",
      "-0.39172399235125266\n"
     ]
    }
   ],
   "source": [
    "# use formula for calculating correlation \n",
    "# coefficient.\n",
    "num=(float)(n * sum_XY - sum_X * sum_Y)\n",
    "p=(n * squareSum_X - sum_X * sum_X)\n",
    "q= (n * squareSum_Y - sum_Y * sum_Y)\n",
    "print(p)\n",
    "print(q)\n",
    "corr = (float)(n * sum_XY - sum_X * sum_Y)/(float)(math.sqrt((n * squareSum_X - sum_X * sum_X)* (n * squareSum_Y - sum_Y * sum_Y)))\n",
    "print(corr)"
   ]
  },
  {
   "cell_type": "code",
   "execution_count": null,
   "metadata": {
    "colab": {
     "background_save": true,
     "base_uri": "https://localhost:8080/"
    },
    "id": "AARm-t1Ub7vr",
    "outputId": "a35a034b-ac4f-4733-a758-e1b825a16f18"
   },
   "outputs": [
    {
     "name": "stdout",
     "output_type": "stream",
     "text": [
      "424\n",
      "165\n",
      "263\n"
     ]
    }
   ],
   "source": [
    "import math\n",
    "sum_X = 0\n",
    "sum_Y = 0\n",
    "sum_XY = 0\n",
    "squareSum_X = 0\n",
    "squareSum_Y = 0   \n",
    "n=303\n",
    "i = 0\n",
    "while i < n :\n",
    "  sum_X = sum(data['slope'])\n",
    "  sum_Y = sum(data['target'])      \n",
    "  sum_XY = sum(data['target']*data['slope'])\n",
    "  squareSum_X =sum(data['slope']*data['slope'])\n",
    "  squareSum_Y =sum(data['target']*data['target'])\n",
    "  i = i + 1\n",
    "print(sum_X)\n",
    "print(sum_Y)\n",
    "print(sum_XY)"
   ]
  },
  {
   "cell_type": "code",
   "execution_count": null,
   "metadata": {
    "colab": {
     "background_save": true,
     "base_uri": "https://localhost:8080/"
    },
    "id": "CWXjn0ICbziI",
    "outputId": "46c54469-8e99-4159-e8f1-6ea05e9db07e"
   },
   "outputs": [
    {
     "name": "stdout",
     "output_type": "stream",
     "text": [
      "34748\n",
      "22770\n",
      "0.3458770782417248\n"
     ]
    }
   ],
   "source": [
    "# use formula for calculating correlation \n",
    "# coefficient.\n",
    "num=(float)(n * sum_XY - sum_X * sum_Y)\n",
    "p=(n * squareSum_X - sum_X * sum_X)\n",
    "q= (n * squareSum_Y - sum_Y * sum_Y)\n",
    "print(p)\n",
    "print(q)\n",
    "corr = (float)(n * sum_XY - sum_X * sum_Y)/(float)(math.sqrt((n * squareSum_X - sum_X * sum_X)* (n * squareSum_Y - sum_Y * sum_Y)))\n",
    "print(corr)"
   ]
  },
  {
   "cell_type": "markdown",
   "metadata": {
    "id": "t7enXwf67HsH"
   },
   "source": [
    "#Correlation for each attribute with target"
   ]
  },
  {
   "cell_type": "code",
   "execution_count": null,
   "metadata": {
    "colab": {
     "background_save": true,
     "base_uri": "https://localhost:8080/"
    },
    "id": "1eVqr-uhFqhQ",
    "outputId": "04cb9c1c-e15c-48ab-dedd-82cd2a1f8f2b"
   },
   "outputs": [
    {
     "name": "stdout",
     "output_type": "stream",
     "text": [
      "target      1.000000\n",
      "exang       0.436757\n",
      "cp          0.433798\n",
      "oldpeak     0.430696\n",
      "thalach     0.421741\n",
      "ca          0.391724\n",
      "slope       0.345877\n",
      "thal        0.344029\n",
      "sex         0.280937\n",
      "age         0.225439\n",
      "trestbps    0.144931\n",
      "restecg     0.137230\n",
      "chol        0.085239\n",
      "fbs         0.028046\n",
      "Name: target, dtype: float64\n"
     ]
    }
   ],
   "source": [
    "print(data.corr()[\"target\"].abs().sort_values(ascending=False)) #correlation wrt target and sort them"
   ]
  },
  {
   "cell_type": "code",
   "execution_count": null,
   "metadata": {
    "colab": {
     "background_save": true
    },
    "id": "w67piwQ7auUK"
   },
   "outputs": [],
   "source": [
    "data.to_csv('ex.csv')"
   ]
  },
  {
   "cell_type": "code",
   "execution_count": null,
   "metadata": {
    "colab": {
     "background_save": true,
     "base_uri": "https://localhost:8080/",
     "height": 17
    },
    "id": "9Fge0BIRbvq5",
    "outputId": "fda8c976-564d-41a1-a2a6-f50fee7416ce"
   },
   "outputs": [
    {
     "data": {
      "application/javascript": [
       "\n",
       "    async function download(id, filename, size) {\n",
       "      if (!google.colab.kernel.accessAllowed) {\n",
       "        return;\n",
       "      }\n",
       "      const div = document.createElement('div');\n",
       "      const label = document.createElement('label');\n",
       "      label.textContent = `Downloading \"${filename}\": `;\n",
       "      div.appendChild(label);\n",
       "      const progress = document.createElement('progress');\n",
       "      progress.max = size;\n",
       "      div.appendChild(progress);\n",
       "      document.body.appendChild(div);\n",
       "\n",
       "      const buffers = [];\n",
       "      let downloaded = 0;\n",
       "\n",
       "      const channel = await google.colab.kernel.comms.open(id);\n",
       "      // Send a message to notify the kernel that we're ready.\n",
       "      channel.send({})\n",
       "\n",
       "      for await (const message of channel.messages) {\n",
       "        // Send a message to notify the kernel that we're ready.\n",
       "        channel.send({})\n",
       "        if (message.buffers) {\n",
       "          for (const buffer of message.buffers) {\n",
       "            buffers.push(buffer);\n",
       "            downloaded += buffer.byteLength;\n",
       "            progress.value = downloaded;\n",
       "          }\n",
       "        }\n",
       "      }\n",
       "      const blob = new Blob(buffers, {type: 'application/binary'});\n",
       "      const a = document.createElement('a');\n",
       "      a.href = window.URL.createObjectURL(blob);\n",
       "      a.download = filename;\n",
       "      div.appendChild(a);\n",
       "      a.click();\n",
       "      div.remove();\n",
       "    }\n",
       "  "
      ],
      "text/plain": [
       "<IPython.core.display.Javascript object>"
      ]
     },
     "metadata": {},
     "output_type": "display_data"
    },
    {
     "data": {
      "application/javascript": [
       "download(\"download_8fcef4d9-4d49-4a6f-8258-5b69555fdae8\", \"ex.csv\", 12384)"
      ],
      "text/plain": [
       "<IPython.core.display.Javascript object>"
      ]
     },
     "metadata": {},
     "output_type": "display_data"
    }
   ],
   "source": [
    "from google.colab import files\n",
    "files.download('ex.csv')"
   ]
  },
  {
   "cell_type": "markdown",
   "metadata": {
    "id": "KbzE09X_7P67"
   },
   "source": [
    "#Correlation for all attributes"
   ]
  },
  {
   "cell_type": "code",
   "execution_count": null,
   "metadata": {
    "colab": {
     "background_save": true,
     "base_uri": "https://localhost:8080/",
     "height": 552
    },
    "id": "-plml_kY0TZI",
    "outputId": "09f37373-f726-4c9a-af30-89cf65341387"
   },
   "outputs": [
    {
     "data": {
      "text/html": [
       "\n",
       "  <div id=\"df-bdfd8977-5a60-4793-b285-7f1709afae38\">\n",
       "    <div class=\"colab-df-container\">\n",
       "      <div>\n",
       "<style scoped>\n",
       "    .dataframe tbody tr th:only-of-type {\n",
       "        vertical-align: middle;\n",
       "    }\n",
       "\n",
       "    .dataframe tbody tr th {\n",
       "        vertical-align: top;\n",
       "    }\n",
       "\n",
       "    .dataframe thead th {\n",
       "        text-align: right;\n",
       "    }\n",
       "</style>\n",
       "<table border=\"1\" class=\"dataframe\">\n",
       "  <thead>\n",
       "    <tr style=\"text-align: right;\">\n",
       "      <th></th>\n",
       "      <th>age</th>\n",
       "      <th>sex</th>\n",
       "      <th>cp</th>\n",
       "      <th>trestbps</th>\n",
       "      <th>chol</th>\n",
       "      <th>fbs</th>\n",
       "      <th>restecg</th>\n",
       "      <th>thalach</th>\n",
       "      <th>exang</th>\n",
       "      <th>oldpeak</th>\n",
       "      <th>slope</th>\n",
       "      <th>ca</th>\n",
       "      <th>thal</th>\n",
       "      <th>target</th>\n",
       "    </tr>\n",
       "  </thead>\n",
       "  <tbody>\n",
       "    <tr>\n",
       "      <th>age</th>\n",
       "      <td>1.000000</td>\n",
       "      <td>-0.098447</td>\n",
       "      <td>-0.068653</td>\n",
       "      <td>0.279351</td>\n",
       "      <td>0.213678</td>\n",
       "      <td>-0.121308</td>\n",
       "      <td>-0.116211</td>\n",
       "      <td>-0.398522</td>\n",
       "      <td>-0.096801</td>\n",
       "      <td>0.210013</td>\n",
       "      <td>-0.168814</td>\n",
       "      <td>0.276326</td>\n",
       "      <td>0.068001</td>\n",
       "      <td>-0.225439</td>\n",
       "    </tr>\n",
       "    <tr>\n",
       "      <th>sex</th>\n",
       "      <td>-0.098447</td>\n",
       "      <td>1.000000</td>\n",
       "      <td>-0.049353</td>\n",
       "      <td>-0.056769</td>\n",
       "      <td>-0.197912</td>\n",
       "      <td>-0.045032</td>\n",
       "      <td>-0.058196</td>\n",
       "      <td>-0.044020</td>\n",
       "      <td>-0.141664</td>\n",
       "      <td>0.096093</td>\n",
       "      <td>-0.030711</td>\n",
       "      <td>0.118261</td>\n",
       "      <td>0.210041</td>\n",
       "      <td>-0.280937</td>\n",
       "    </tr>\n",
       "    <tr>\n",
       "      <th>cp</th>\n",
       "      <td>-0.068653</td>\n",
       "      <td>-0.049353</td>\n",
       "      <td>1.000000</td>\n",
       "      <td>0.047608</td>\n",
       "      <td>-0.076904</td>\n",
       "      <td>-0.094444</td>\n",
       "      <td>0.044421</td>\n",
       "      <td>0.295762</td>\n",
       "      <td>0.394280</td>\n",
       "      <td>-0.149230</td>\n",
       "      <td>0.119717</td>\n",
       "      <td>-0.181053</td>\n",
       "      <td>-0.161736</td>\n",
       "      <td>0.433798</td>\n",
       "    </tr>\n",
       "    <tr>\n",
       "      <th>trestbps</th>\n",
       "      <td>0.279351</td>\n",
       "      <td>-0.056769</td>\n",
       "      <td>0.047608</td>\n",
       "      <td>1.000000</td>\n",
       "      <td>0.123174</td>\n",
       "      <td>-0.177531</td>\n",
       "      <td>-0.114103</td>\n",
       "      <td>-0.046698</td>\n",
       "      <td>-0.067616</td>\n",
       "      <td>0.193216</td>\n",
       "      <td>-0.121475</td>\n",
       "      <td>0.101389</td>\n",
       "      <td>0.062210</td>\n",
       "      <td>-0.144931</td>\n",
       "    </tr>\n",
       "    <tr>\n",
       "      <th>chol</th>\n",
       "      <td>0.213678</td>\n",
       "      <td>-0.197912</td>\n",
       "      <td>-0.076904</td>\n",
       "      <td>0.123174</td>\n",
       "      <td>1.000000</td>\n",
       "      <td>-0.013294</td>\n",
       "      <td>-0.151040</td>\n",
       "      <td>-0.009940</td>\n",
       "      <td>-0.067023</td>\n",
       "      <td>0.053952</td>\n",
       "      <td>-0.004038</td>\n",
       "      <td>0.070511</td>\n",
       "      <td>0.098803</td>\n",
       "      <td>-0.085239</td>\n",
       "    </tr>\n",
       "    <tr>\n",
       "      <th>fbs</th>\n",
       "      <td>-0.121308</td>\n",
       "      <td>-0.045032</td>\n",
       "      <td>-0.094444</td>\n",
       "      <td>-0.177531</td>\n",
       "      <td>-0.013294</td>\n",
       "      <td>1.000000</td>\n",
       "      <td>0.084189</td>\n",
       "      <td>0.008567</td>\n",
       "      <td>0.025665</td>\n",
       "      <td>-0.005747</td>\n",
       "      <td>0.059894</td>\n",
       "      <td>-0.137979</td>\n",
       "      <td>0.032019</td>\n",
       "      <td>0.028046</td>\n",
       "    </tr>\n",
       "    <tr>\n",
       "      <th>restecg</th>\n",
       "      <td>-0.116211</td>\n",
       "      <td>-0.058196</td>\n",
       "      <td>0.044421</td>\n",
       "      <td>-0.114103</td>\n",
       "      <td>-0.151040</td>\n",
       "      <td>0.084189</td>\n",
       "      <td>1.000000</td>\n",
       "      <td>0.044123</td>\n",
       "      <td>0.070733</td>\n",
       "      <td>-0.058770</td>\n",
       "      <td>0.093045</td>\n",
       "      <td>-0.072042</td>\n",
       "      <td>-0.011981</td>\n",
       "      <td>0.137230</td>\n",
       "    </tr>\n",
       "    <tr>\n",
       "      <th>thalach</th>\n",
       "      <td>-0.398522</td>\n",
       "      <td>-0.044020</td>\n",
       "      <td>0.295762</td>\n",
       "      <td>-0.046698</td>\n",
       "      <td>-0.009940</td>\n",
       "      <td>0.008567</td>\n",
       "      <td>0.044123</td>\n",
       "      <td>1.000000</td>\n",
       "      <td>0.378812</td>\n",
       "      <td>-0.344187</td>\n",
       "      <td>0.386784</td>\n",
       "      <td>-0.213177</td>\n",
       "      <td>-0.096439</td>\n",
       "      <td>0.421741</td>\n",
       "    </tr>\n",
       "    <tr>\n",
       "      <th>exang</th>\n",
       "      <td>-0.096801</td>\n",
       "      <td>-0.141664</td>\n",
       "      <td>0.394280</td>\n",
       "      <td>-0.067616</td>\n",
       "      <td>-0.067023</td>\n",
       "      <td>0.025665</td>\n",
       "      <td>0.070733</td>\n",
       "      <td>0.378812</td>\n",
       "      <td>1.000000</td>\n",
       "      <td>-0.288223</td>\n",
       "      <td>0.257748</td>\n",
       "      <td>-0.115739</td>\n",
       "      <td>-0.206754</td>\n",
       "      <td>0.436757</td>\n",
       "    </tr>\n",
       "    <tr>\n",
       "      <th>oldpeak</th>\n",
       "      <td>0.210013</td>\n",
       "      <td>0.096093</td>\n",
       "      <td>-0.149230</td>\n",
       "      <td>0.193216</td>\n",
       "      <td>0.053952</td>\n",
       "      <td>-0.005747</td>\n",
       "      <td>-0.058770</td>\n",
       "      <td>-0.344187</td>\n",
       "      <td>-0.288223</td>\n",
       "      <td>1.000000</td>\n",
       "      <td>-0.577537</td>\n",
       "      <td>0.222682</td>\n",
       "      <td>0.210244</td>\n",
       "      <td>-0.430696</td>\n",
       "    </tr>\n",
       "    <tr>\n",
       "      <th>slope</th>\n",
       "      <td>-0.168814</td>\n",
       "      <td>-0.030711</td>\n",
       "      <td>0.119717</td>\n",
       "      <td>-0.121475</td>\n",
       "      <td>-0.004038</td>\n",
       "      <td>0.059894</td>\n",
       "      <td>0.093045</td>\n",
       "      <td>0.386784</td>\n",
       "      <td>0.257748</td>\n",
       "      <td>-0.577537</td>\n",
       "      <td>1.000000</td>\n",
       "      <td>-0.080155</td>\n",
       "      <td>-0.104764</td>\n",
       "      <td>0.345877</td>\n",
       "    </tr>\n",
       "    <tr>\n",
       "      <th>ca</th>\n",
       "      <td>0.276326</td>\n",
       "      <td>0.118261</td>\n",
       "      <td>-0.181053</td>\n",
       "      <td>0.101389</td>\n",
       "      <td>0.070511</td>\n",
       "      <td>-0.137979</td>\n",
       "      <td>-0.072042</td>\n",
       "      <td>-0.213177</td>\n",
       "      <td>-0.115739</td>\n",
       "      <td>0.222682</td>\n",
       "      <td>-0.080155</td>\n",
       "      <td>1.000000</td>\n",
       "      <td>0.151832</td>\n",
       "      <td>-0.391724</td>\n",
       "    </tr>\n",
       "    <tr>\n",
       "      <th>thal</th>\n",
       "      <td>0.068001</td>\n",
       "      <td>0.210041</td>\n",
       "      <td>-0.161736</td>\n",
       "      <td>0.062210</td>\n",
       "      <td>0.098803</td>\n",
       "      <td>0.032019</td>\n",
       "      <td>-0.011981</td>\n",
       "      <td>-0.096439</td>\n",
       "      <td>-0.206754</td>\n",
       "      <td>0.210244</td>\n",
       "      <td>-0.104764</td>\n",
       "      <td>0.151832</td>\n",
       "      <td>1.000000</td>\n",
       "      <td>-0.344029</td>\n",
       "    </tr>\n",
       "    <tr>\n",
       "      <th>target</th>\n",
       "      <td>-0.225439</td>\n",
       "      <td>-0.280937</td>\n",
       "      <td>0.433798</td>\n",
       "      <td>-0.144931</td>\n",
       "      <td>-0.085239</td>\n",
       "      <td>0.028046</td>\n",
       "      <td>0.137230</td>\n",
       "      <td>0.421741</td>\n",
       "      <td>0.436757</td>\n",
       "      <td>-0.430696</td>\n",
       "      <td>0.345877</td>\n",
       "      <td>-0.391724</td>\n",
       "      <td>-0.344029</td>\n",
       "      <td>1.000000</td>\n",
       "    </tr>\n",
       "  </tbody>\n",
       "</table>\n",
       "</div>\n",
       "      <button class=\"colab-df-convert\" onclick=\"convertToInteractive('df-bdfd8977-5a60-4793-b285-7f1709afae38')\"\n",
       "              title=\"Convert this dataframe to an interactive table.\"\n",
       "              style=\"display:none;\">\n",
       "        \n",
       "  <svg xmlns=\"http://www.w3.org/2000/svg\" height=\"24px\"viewBox=\"0 0 24 24\"\n",
       "       width=\"24px\">\n",
       "    <path d=\"M0 0h24v24H0V0z\" fill=\"none\"/>\n",
       "    <path d=\"M18.56 5.44l.94 2.06.94-2.06 2.06-.94-2.06-.94-.94-2.06-.94 2.06-2.06.94zm-11 1L8.5 8.5l.94-2.06 2.06-.94-2.06-.94L8.5 2.5l-.94 2.06-2.06.94zm10 10l.94 2.06.94-2.06 2.06-.94-2.06-.94-.94-2.06-.94 2.06-2.06.94z\"/><path d=\"M17.41 7.96l-1.37-1.37c-.4-.4-.92-.59-1.43-.59-.52 0-1.04.2-1.43.59L10.3 9.45l-7.72 7.72c-.78.78-.78 2.05 0 2.83L4 21.41c.39.39.9.59 1.41.59.51 0 1.02-.2 1.41-.59l7.78-7.78 2.81-2.81c.8-.78.8-2.07 0-2.86zM5.41 20L4 18.59l7.72-7.72 1.47 1.35L5.41 20z\"/>\n",
       "  </svg>\n",
       "      </button>\n",
       "      \n",
       "  <style>\n",
       "    .colab-df-container {\n",
       "      display:flex;\n",
       "      flex-wrap:wrap;\n",
       "      gap: 12px;\n",
       "    }\n",
       "\n",
       "    .colab-df-convert {\n",
       "      background-color: #E8F0FE;\n",
       "      border: none;\n",
       "      border-radius: 50%;\n",
       "      cursor: pointer;\n",
       "      display: none;\n",
       "      fill: #1967D2;\n",
       "      height: 32px;\n",
       "      padding: 0 0 0 0;\n",
       "      width: 32px;\n",
       "    }\n",
       "\n",
       "    .colab-df-convert:hover {\n",
       "      background-color: #E2EBFA;\n",
       "      box-shadow: 0px 1px 2px rgba(60, 64, 67, 0.3), 0px 1px 3px 1px rgba(60, 64, 67, 0.15);\n",
       "      fill: #174EA6;\n",
       "    }\n",
       "\n",
       "    [theme=dark] .colab-df-convert {\n",
       "      background-color: #3B4455;\n",
       "      fill: #D2E3FC;\n",
       "    }\n",
       "\n",
       "    [theme=dark] .colab-df-convert:hover {\n",
       "      background-color: #434B5C;\n",
       "      box-shadow: 0px 1px 3px 1px rgba(0, 0, 0, 0.15);\n",
       "      filter: drop-shadow(0px 1px 2px rgba(0, 0, 0, 0.3));\n",
       "      fill: #FFFFFF;\n",
       "    }\n",
       "  </style>\n",
       "\n",
       "      <script>\n",
       "        const buttonEl =\n",
       "          document.querySelector('#df-bdfd8977-5a60-4793-b285-7f1709afae38 button.colab-df-convert');\n",
       "        buttonEl.style.display =\n",
       "          google.colab.kernel.accessAllowed ? 'block' : 'none';\n",
       "\n",
       "        async function convertToInteractive(key) {\n",
       "          const element = document.querySelector('#df-bdfd8977-5a60-4793-b285-7f1709afae38');\n",
       "          const dataTable =\n",
       "            await google.colab.kernel.invokeFunction('convertToInteractive',\n",
       "                                                     [key], {});\n",
       "          if (!dataTable) return;\n",
       "\n",
       "          const docLinkHtml = 'Like what you see? Visit the ' +\n",
       "            '<a target=\"_blank\" href=https://colab.research.google.com/notebooks/data_table.ipynb>data table notebook</a>'\n",
       "            + ' to learn more about interactive tables.';\n",
       "          element.innerHTML = '';\n",
       "          dataTable['output_type'] = 'display_data';\n",
       "          await google.colab.output.renderOutput(dataTable, element);\n",
       "          const docLink = document.createElement('div');\n",
       "          docLink.innerHTML = docLinkHtml;\n",
       "          element.appendChild(docLink);\n",
       "        }\n",
       "      </script>\n",
       "    </div>\n",
       "  </div>\n",
       "  "
      ],
      "text/plain": [
       "               age       sex        cp  trestbps      chol       fbs  \\\n",
       "age       1.000000 -0.098447 -0.068653  0.279351  0.213678 -0.121308   \n",
       "sex      -0.098447  1.000000 -0.049353 -0.056769 -0.197912 -0.045032   \n",
       "cp       -0.068653 -0.049353  1.000000  0.047608 -0.076904 -0.094444   \n",
       "trestbps  0.279351 -0.056769  0.047608  1.000000  0.123174 -0.177531   \n",
       "chol      0.213678 -0.197912 -0.076904  0.123174  1.000000 -0.013294   \n",
       "fbs      -0.121308 -0.045032 -0.094444 -0.177531 -0.013294  1.000000   \n",
       "restecg  -0.116211 -0.058196  0.044421 -0.114103 -0.151040  0.084189   \n",
       "thalach  -0.398522 -0.044020  0.295762 -0.046698 -0.009940  0.008567   \n",
       "exang    -0.096801 -0.141664  0.394280 -0.067616 -0.067023  0.025665   \n",
       "oldpeak   0.210013  0.096093 -0.149230  0.193216  0.053952 -0.005747   \n",
       "slope    -0.168814 -0.030711  0.119717 -0.121475 -0.004038  0.059894   \n",
       "ca        0.276326  0.118261 -0.181053  0.101389  0.070511 -0.137979   \n",
       "thal      0.068001  0.210041 -0.161736  0.062210  0.098803  0.032019   \n",
       "target   -0.225439 -0.280937  0.433798 -0.144931 -0.085239  0.028046   \n",
       "\n",
       "           restecg   thalach     exang   oldpeak     slope        ca  \\\n",
       "age      -0.116211 -0.398522 -0.096801  0.210013 -0.168814  0.276326   \n",
       "sex      -0.058196 -0.044020 -0.141664  0.096093 -0.030711  0.118261   \n",
       "cp        0.044421  0.295762  0.394280 -0.149230  0.119717 -0.181053   \n",
       "trestbps -0.114103 -0.046698 -0.067616  0.193216 -0.121475  0.101389   \n",
       "chol     -0.151040 -0.009940 -0.067023  0.053952 -0.004038  0.070511   \n",
       "fbs       0.084189  0.008567  0.025665 -0.005747  0.059894 -0.137979   \n",
       "restecg   1.000000  0.044123  0.070733 -0.058770  0.093045 -0.072042   \n",
       "thalach   0.044123  1.000000  0.378812 -0.344187  0.386784 -0.213177   \n",
       "exang     0.070733  0.378812  1.000000 -0.288223  0.257748 -0.115739   \n",
       "oldpeak  -0.058770 -0.344187 -0.288223  1.000000 -0.577537  0.222682   \n",
       "slope     0.093045  0.386784  0.257748 -0.577537  1.000000 -0.080155   \n",
       "ca       -0.072042 -0.213177 -0.115739  0.222682 -0.080155  1.000000   \n",
       "thal     -0.011981 -0.096439 -0.206754  0.210244 -0.104764  0.151832   \n",
       "target    0.137230  0.421741  0.436757 -0.430696  0.345877 -0.391724   \n",
       "\n",
       "              thal    target  \n",
       "age       0.068001 -0.225439  \n",
       "sex       0.210041 -0.280937  \n",
       "cp       -0.161736  0.433798  \n",
       "trestbps  0.062210 -0.144931  \n",
       "chol      0.098803 -0.085239  \n",
       "fbs       0.032019  0.028046  \n",
       "restecg  -0.011981  0.137230  \n",
       "thalach  -0.096439  0.421741  \n",
       "exang    -0.206754  0.436757  \n",
       "oldpeak   0.210244 -0.430696  \n",
       "slope    -0.104764  0.345877  \n",
       "ca        0.151832 -0.391724  \n",
       "thal      1.000000 -0.344029  \n",
       "target   -0.344029  1.000000  "
      ]
     },
     "execution_count": null,
     "metadata": {},
     "output_type": "execute_result"
    }
   ],
   "source": [
    "data.corr()"
   ]
  },
  {
   "cell_type": "code",
   "execution_count": null,
   "metadata": {
    "colab": {
     "background_save": true,
     "base_uri": "https://localhost:8080/",
     "height": 1000
    },
    "id": "vKNKoZrV9joC",
    "outputId": "8b71bd3c-c4ce-480c-e0b2-d26d24dfda8c"
   },
   "outputs": [
    {
     "name": "stdout",
     "output_type": "stream",
     "text": [
      "Index(['age', 'sex', 'cp', 'trestbps', 'chol', 'fbs', 'restecg', 'thalach',\n",
      "       'exang', 'oldpeak', 'slope', 'ca', 'thal', 'target'],\n",
      "      dtype='object')\n"
     ]
    },
    {
     "data": {
      "image/png": "[encoded data removed]",
      "text/plain": [
       "<Figure size 1440x1440 with 2 Axes>"
      ]
     },
     "metadata": {},
     "output_type": "display_data"
    }
   ],
   "source": [
    "#used heatmap to plot correlation between each attribute\n",
    "c=data.corr()\n",
    "print(c.index)\n",
    "d=c.index\n",
    "plt.figure(figsize=(20,20))\n",
    "g=sns.heatmap(data[d].corr(),annot=True,cmap=\"winter\")  #fill cells with correlation values"
   ]
  },
  {
   "cell_type": "code",
   "execution_count": null,
   "metadata": {
    "colab": {
     "background_save": true,
     "base_uri": "https://localhost:8080/",
     "height": 356
    },
    "id": "Sc7D-2IW-s1M",
    "outputId": "587f55b6-35fe-40ba-e7e0-20e73a313bc8"
   },
   "outputs": [
    {
     "data": {
      "text/plain": [
       "<matplotlib.axes._subplots.AxesSubplot at 0x7f0d32fe2390>"
      ]
     },
     "execution_count": null,
     "metadata": {},
     "output_type": "execute_result"
    },
    {
     "data": {
      "image/png": "[encoded data removed]",
      "text/plain": [
       "<Figure size 432x360 with 1 Axes>"
      ]
     },
     "metadata": {},
     "output_type": "display_data"
    }
   ],
   "source": [
    "#Visualizing the cvd with respect to chol and thalach\n",
    "sns.set(rc={'figure.figsize':(6,5)})\n",
    "sns.scatterplot(x= 'chol', y= 'thalach', hue= 'target', data= data)"
   ]
  },
  {
   "cell_type": "code",
   "execution_count": null,
   "metadata": {
    "colab": {
     "background_save": true,
     "base_uri": "https://localhost:8080/"
    },
    "id": "tgXx7rtZXrhi",
    "outputId": "ec16c9d2-8a6a-4b72-e938-d8639c7e5628"
   },
   "outputs": [
    {
     "name": "stdout",
     "output_type": "stream",
     "text": [
      "152\n",
      "91\n",
      "41\n",
      "2\n",
      "4\n",
      "49\n",
      "2\n",
      "3\n",
      "2\n",
      "40\n",
      "3\n",
      "5\n",
      "4\n",
      "2\n"
     ]
    }
   ],
   "source": [
    "#No of unique values in each column\n",
    "print(len(pd.unique(data['chol'])))\n",
    "print(len(pd.unique(data['thalach'])))\n",
    "print(len(pd.unique(data['age'])))\n",
    "print(len(pd.unique(data['sex'])))\n",
    "print(len(pd.unique(data['cp'])))\n",
    "print(len(pd.unique(data['trestbps'])))\n",
    "print(len(pd.unique(data['fbs'])))\n",
    "print(len(pd.unique(data['restecg'])))\n",
    "print(len(pd.unique(data['exang'])))\n",
    "print(len(pd.unique(data['oldpeak'])))\n",
    "print(len(pd.unique(data['slope'])))\n",
    "print(len(pd.unique(data['ca'])))\n",
    "print(len(pd.unique(data['thal'])))\n",
    "print(len(pd.unique(data['target'])))"
   ]
  },
  {
   "cell_type": "markdown",
   "metadata": {
    "id": "LslpK1Z1EIVq"
   },
   "source": [
    "#Visual representations of the data"
   ]
  },
  {
   "cell_type": "code",
   "execution_count": null,
   "metadata": {
    "colab": {
     "background_save": true,
     "base_uri": "https://localhost:8080/",
     "height": 719
    },
    "id": "QHcIwKyrBWFg",
    "outputId": "9923c830-3606-4fea-e7cc-38e14c703163"
   },
   "outputs": [
    {
     "data": {
      "image/png": "[encoded data removed]",
      "text/plain": [
       "<Figure size 864x864 with 16 Axes>"
      ]
     },
     "metadata": {},
     "output_type": "display_data"
    }
   ],
   "source": [
    "# let see visual representations of the data to understand more about features.\n",
    "data.hist(figsize=(12,12))\n",
    "plt.savefig('featuresplot')"
   ]
  },
  {
   "cell_type": "code",
   "execution_count": null,
   "metadata": {
    "colab": {
     "background_save": true,
     "base_uri": "https://localhost:8080/",
     "height": 391
    },
    "id": "ZBfNWFpnOU6O",
    "outputId": "877720c0-18d9-47cf-eba2-94a1474067af"
   },
   "outputs": [
    {
     "name": "stdout",
     "output_type": "stream",
     "text": [
      "1    165\n",
      "0    138\n",
      "Name: target, dtype: int64\n"
     ]
    },
    {
     "data": {
      "image/png": "[encoded data removed]",
      "text/plain": [
       "<Figure size 432x360 with 1 Axes>"
      ]
     },
     "metadata": {},
     "output_type": "display_data"
    }
   ],
   "source": [
    "y = data[\"target\"]\n",
    "sns.countplot(y)\n",
    "target_temp = data.target.value_counts()\n",
    "print(target_temp)"
   ]
  },
  {
   "cell_type": "code",
   "execution_count": null,
   "metadata": {
    "colab": {
     "background_save": true,
     "base_uri": "https://localhost:8080/"
    },
    "id": "CJ4xRwEdOglF",
    "outputId": "9b5a65a4-03a9-4b80-a094-badc44442f26"
   },
   "outputs": [
    {
     "name": "stdout",
     "output_type": "stream",
     "text": [
      "Percentage of patience without heart problems: 45.54\n",
      "Percentage of patience with heart problems: 54.46\n"
     ]
    }
   ],
   "source": [
    "print(\"Percentage of patience without heart problems: \"+str(round(target_temp[0]*100/303,2)))\n",
    "print(\"Percentage of patience with heart problems: \"+str(round(target_temp[1]*100/303,2)))"
   ]
  },
  {
   "cell_type": "code",
   "execution_count": null,
   "metadata": {
    "colab": {
     "background_save": true,
     "base_uri": "https://localhost:8080/",
     "height": 356
    },
    "id": "Zv-ZaSeZOuHH",
    "outputId": "dcbad536-c057-47cc-8d56-cf6ea74edc12"
   },
   "outputs": [
    {
     "data": {
      "text/plain": [
       "<matplotlib.axes._subplots.AxesSubplot at 0x7f0d35378d10>"
      ]
     },
     "execution_count": null,
     "metadata": {},
     "output_type": "execute_result"
    },
    {
     "data": {
      "image/png": "[encoded data removed]",
      "text/plain": [
       "<Figure size 432x360 with 1 Axes>"
      ]
     },
     "metadata": {},
     "output_type": "display_data"
    }
   ],
   "source": [
    "sns.barplot(data[\"cp\"],y)"
   ]
  },
  {
   "cell_type": "code",
   "execution_count": null,
   "metadata": {
    "colab": {
     "background_save": true,
     "base_uri": "https://localhost:8080/",
     "height": 356
    },
    "id": "c4DI_qS5dxAf",
    "outputId": "58b2005b-04a1-4725-f12d-bb98dbdeb37d"
   },
   "outputs": [
    {
     "data": {
      "text/plain": [
       "<matplotlib.axes._subplots.AxesSubplot at 0x7f0d354ccb50>"
      ]
     },
     "execution_count": null,
     "metadata": {},
     "output_type": "execute_result"
    },
    {
     "data": {
      "image/png": "[encoded data removed]",
      "text/plain": [
       "<Figure size 432x360 with 1 Axes>"
      ]
     },
     "metadata": {},
     "output_type": "display_data"
    }
   ],
   "source": [
    "sns.barplot(data[\"exang\"],y)"
   ]
  },
  {
   "cell_type": "markdown",
   "metadata": {
    "id": "BcMff7II7XyR"
   },
   "source": [
    "#WITHOUT FEATURE SELECTION"
   ]
  },
  {
   "cell_type": "markdown",
   "metadata": {
    "id": "R_LA57v1qku7"
   },
   "source": [
    "split ratio=70:30"
   ]
  },
  {
   "cell_type": "code",
   "execution_count": null,
   "metadata": {
    "colab": {
     "background_save": true
    },
    "id": "PbrJuqhGlyXV"
   },
   "outputs": [],
   "source": [
    "from sklearn.model_selection import train_test_split\n",
    "from sklearn.metrics import accuracy_score\n",
    "\n",
    "predictors = data.drop(\"target\",axis=1)\n",
    "target = data[\"target\"]\n",
    "\n",
    "X_train,X_test,Y_train,Y_test = train_test_split(predictors,target,test_size=0.30,stratify=target,random_state=2)\n"
   ]
  },
  {
   "cell_type": "code",
   "execution_count": null,
   "metadata": {
    "colab": {
     "background_save": true,
     "base_uri": "https://localhost:8080/"
    },
    "id": "YKHED9LTdP5M",
    "outputId": "49c1bd74-b4ed-4025-ed0a-bddd4af4d712"
   },
   "outputs": [
    {
     "data": {
      "text/plain": [
       "(212, 13)"
      ]
     },
     "execution_count": null,
     "metadata": {},
     "output_type": "execute_result"
    }
   ],
   "source": [
    "X_train.shape"
   ]
  },
  {
   "cell_type": "code",
   "execution_count": null,
   "metadata": {
    "colab": {
     "background_save": true,
     "base_uri": "https://localhost:8080/"
    },
    "id": "OUt6qY_jdSH-",
    "outputId": "403389e4-96c4-44fc-be17-535c5cb845a4"
   },
   "outputs": [
    {
     "data": {
      "text/plain": [
       "(91, 13)"
      ]
     },
     "execution_count": null,
     "metadata": {},
     "output_type": "execute_result"
    }
   ],
   "source": [
    "X_test.shape"
   ]
  },
  {
   "cell_type": "code",
   "execution_count": null,
   "metadata": {
    "colab": {
     "background_save": true,
     "base_uri": "https://localhost:8080/"
    },
    "id": "PRAG5icCdVF9",
    "outputId": "ce10a02c-81a6-4cf9-8ed4-4d73592dc047"
   },
   "outputs": [
    {
     "data": {
      "text/plain": [
       "(212,)"
      ]
     },
     "execution_count": null,
     "metadata": {},
     "output_type": "execute_result"
    }
   ],
   "source": [
    "Y_train.shape"
   ]
  },
  {
   "cell_type": "code",
   "execution_count": null,
   "metadata": {
    "colab": {
     "background_save": true,
     "base_uri": "https://localhost:8080/"
    },
    "id": "ljjxh60XdY7m",
    "outputId": "35adafb7-29a4-407f-ee62-74aa307a5d13"
   },
   "outputs": [
    {
     "data": {
      "text/plain": [
       "(91,)"
      ]
     },
     "execution_count": null,
     "metadata": {},
     "output_type": "execute_result"
    }
   ],
   "source": [
    "Y_test.shape"
   ]
  },
  {
   "cell_type": "code",
   "execution_count": null,
   "metadata": {
    "colab": {
     "background_save": true,
     "base_uri": "https://localhost:8080/"
    },
    "id": "1X31rPG6dbME",
    "outputId": "979f56b3-b8fc-41ea-915d-6ba687d02f0c"
   },
   "outputs": [
    {
     "name": "stdout",
     "output_type": "stream",
     "text": [
      "The accuracy score achieved using Linear SVM is: 79.12 %\n"
     ]
    }
   ],
   "source": [
    "from sklearn import svm\n",
    "from sklearn.metrics import confusion_matrix\n",
    "from sklearn.metrics import accuracy_score\n",
    "sv = svm.SVC(kernel='linear')\n",
    "sv.fit(X_train, Y_train)\n",
    "Y_pred_svm = sv.predict(X_test)\n",
    "score_svm = round(accuracy_score(Y_pred_svm,Y_test)*100,2)\n",
    "\n",
    "print(\"The accuracy score achieved using Linear SVM is: \"+str(score_svm)+\" %\")\n"
   ]
  },
  {
   "cell_type": "code",
   "execution_count": null,
   "metadata": {
    "colab": {
     "background_save": true,
     "base_uri": "https://localhost:8080/"
    },
    "id": "TOwnn_vFPWWz",
    "outputId": "e82f4f06-3e10-4c26-ec89-c4060488d40a"
   },
   "outputs": [
    {
     "name": "stdout",
     "output_type": "stream",
     "text": [
      "     age  sex  cp  trestbps  chol  fbs  restecg  thalach  exang  oldpeak  \\\n",
      "0     63    1   3       145   233    0        0      150      1      2.3   \n",
      "1     67    1   0       160   286    1        0      108      0      1.5   \n",
      "2     67    1   0       120   229    1        0      129      0      2.6   \n",
      "3     37    1   2       130   250    1        1      187      1      3.5   \n",
      "4     41    0   1       130   204    1        0      172      1      1.4   \n",
      "..   ...  ...  ..       ...   ...  ...      ...      ...    ...      ...   \n",
      "298   48    1   2       124   255    0        1      175      1      0.0   \n",
      "299   57    1   0       132   207    1        1      168      0      0.0   \n",
      "300   49    1   2       118   149    1        0      126      1      0.8   \n",
      "301   74    0   1       120   269    1        0      121      0      0.2   \n",
      "302   54    0   2       160   201    1        1      163      1      0.0   \n",
      "\n",
      "     slope  ca  thal  target  \n",
      "0        0   0     1       1  \n",
      "1        1   3     2       0  \n",
      "2        1   2     3       0  \n",
      "3        0   0     2       1  \n",
      "4        2   0     2       1  \n",
      "..     ...  ..   ...     ...  \n",
      "298      2   2     2       1  \n",
      "299      2   0     3       1  \n",
      "300      2   3     2       0  \n",
      "301      2   1     2       1  \n",
      "302      2   1     2       1  \n",
      "\n",
      "[303 rows x 14 columns]\n"
     ]
    }
   ],
   "source": [
    "print(data)"
   ]
  },
  {
   "cell_type": "code",
   "execution_count": null,
   "metadata": {
    "colab": {
     "background_save": true,
     "base_uri": "https://localhost:8080/"
    },
    "id": "Ui1ZS5F8RowM",
    "outputId": "b3ce784b-765e-470a-d7e2-67190a07fe74"
   },
   "outputs": [
    {
     "name": "stdout",
     "output_type": "stream",
     "text": [
      "     age  sex  cp  trestbps  chol  fbs  restecg  thalach  exang  oldpeak  \\\n",
      "232   40    1   0       152   223    1        1      181      1      0.0   \n",
      "38    59    1   2       150   212    0        1      157      1      1.6   \n",
      "253   63    1   0       140   187    1        0      144      0      4.0   \n",
      "264   56    1   1       130   221    1        0      163      1      0.0   \n",
      "34    61    1   2       150   243    0        1      137      0      1.0   \n",
      "..   ...  ...  ..       ...   ...  ...      ...      ...    ...      ...   \n",
      "179   58    1   0       128   259    1        0      130      0      3.0   \n",
      "93    52    1   1       134   201    1        1      158      1      0.8   \n",
      "102   62    0   2       130   263    1        1       97      1      1.2   \n",
      "222   58    1   0       146   218    1        1      105      1      2.0   \n",
      "279   65    1   3       138   282    0        0      174      1      1.4   \n",
      "\n",
      "     slope  ca  thal  target  actual_target  \n",
      "232      2   0     3       1              0  \n",
      "38       2   0     2       1              1  \n",
      "253      2   2     3       0              0  \n",
      "264      2   0     3       1              1  \n",
      "34       1   0     2       0              1  \n",
      "..     ...  ..   ...     ...            ...  \n",
      "179      1   2     3       0              0  \n",
      "93       2   1     2       1              1  \n",
      "102      1   1     3       0              0  \n",
      "222      1   1     3       0              0  \n",
      "279      1   1     2       1              0  \n",
      "\n",
      "[91 rows x 15 columns]\n"
     ]
    }
   ],
   "source": [
    "data_pred = pd.DataFrame(X_test)\n",
    "data_pred = data_pred.assign(target=Y_pred_svm)\n",
    "data_pred = data_pred.assign(actual_target=Y_test)\n",
    "print(data_pred)"
   ]
  },
  {
   "cell_type": "code",
   "execution_count": null,
   "metadata": {
    "colab": {
     "background_save": true,
     "base_uri": "https://localhost:8080/",
     "height": 17
    },
    "id": "VKeuB75ZRO6d",
    "outputId": "6c228d15-c2ac-467e-e5dc-cb10efb0aacf"
   },
   "outputs": [
    {
     "data": {
      "application/javascript": [
       "\n",
       "    async function download(id, filename, size) {\n",
       "      if (!google.colab.kernel.accessAllowed) {\n",
       "        return;\n",
       "      }\n",
       "      const div = document.createElement('div');\n",
       "      const label = document.createElement('label');\n",
       "      label.textContent = `Downloading \"${filename}\": `;\n",
       "      div.appendChild(label);\n",
       "      const progress = document.createElement('progress');\n",
       "      progress.max = size;\n",
       "      div.appendChild(progress);\n",
       "      document.body.appendChild(div);\n",
       "\n",
       "      const buffers = [];\n",
       "      let downloaded = 0;\n",
       "\n",
       "      const channel = await google.colab.kernel.comms.open(id);\n",
       "      // Send a message to notify the kernel that we're ready.\n",
       "      channel.send({})\n",
       "\n",
       "      for await (const message of channel.messages) {\n",
       "        // Send a message to notify the kernel that we're ready.\n",
       "        channel.send({})\n",
       "        if (message.buffers) {\n",
       "          for (const buffer of message.buffers) {\n",
       "            buffers.push(buffer);\n",
       "            downloaded += buffer.byteLength;\n",
       "            progress.value = downloaded;\n",
       "          }\n",
       "        }\n",
       "      }\n",
       "      const blob = new Blob(buffers, {type: 'application/binary'});\n",
       "      const a = document.createElement('a');\n",
       "      a.href = window.URL.createObjectURL(blob);\n",
       "      a.download = filename;\n",
       "      div.appendChild(a);\n",
       "      a.click();\n",
       "      div.remove();\n",
       "    }\n",
       "  "
      ],
      "text/plain": [
       "<IPython.core.display.Javascript object>"
      ]
     },
     "metadata": {},
     "output_type": "display_data"
    },
    {
     "data": {
      "application/javascript": [
       "download(\"download_12fbd7e1-fe03-4ff1-9f2a-06251834b02b\", \"SVM.csv\", 3974)"
      ],
      "text/plain": [
       "<IPython.core.display.Javascript object>"
      ]
     },
     "metadata": {},
     "output_type": "display_data"
    }
   ],
   "source": [
    "data_pred.to_csv('SVM.csv')\n",
    "from google.colab import files\n",
    "files.download('SVM.csv')"
   ]
  },
  {
   "cell_type": "code",
   "execution_count": null,
   "metadata": {
    "colab": {
     "background_save": true,
     "base_uri": "https://localhost:8080/",
     "height": 409
    },
    "id": "BDIEkVHlkgNg",
    "outputId": "460c4ca7-952a-4687-c4d1-b3c88d98b913"
   },
   "outputs": [
    {
     "name": "stdout",
     "output_type": "stream",
     "text": [
      "Testing Accuracy for Linear SVM: 0.7912087912087912\n",
      "Testing Recall for Linear SVM: 0.7894736842105263\n",
      "Testing Precision for Linear SVM: 0.7317073170731707\n",
      "Testing Specificity for Linear SVM: 0.7924528301886793\n",
      "Testing F1 score for Linear SVM: 0.759493670886076\n"
     ]
    },
    {
     "data": {
      "image/png": "[encoded data removed]",
      "text/plain": [
       "<Figure size 432x360 with 2 Axes>"
      ]
     },
     "metadata": {},
     "output_type": "display_data"
    }
   ],
   "source": [
    "cm4= confusion_matrix(Y_test,Y_pred_svm)\n",
    "sns.heatmap(cm4, annot=True,cmap='winter',linewidths=0.3, linecolor='black',annot_kws={\"size\": 20})\n",
    "TP=cm4[0][0]\n",
    "TN=cm4[1][1]\n",
    "FN=cm4[1][0]\n",
    "FP=cm4[0][1]\n",
    "  \n",
    "print('Testing Accuracy for Linear SVM:',(TP+TN)/(TP+TN+FN+FP))\n",
    "print('Testing Recall for Linear SVM:',(TP/(TP+FN)))  #how many positive records we predicted correctly(Senesitivity)\n",
    "print('Testing Precision for Linear SVM:',(TP/(TP+FP)))\n",
    "print('Testing Specificity for Linear SVM:',(TN/(TN+FP)))  #how many negative records we predicted correctly\n",
    "X=(FP+FN)/2\n",
    "print('Testing F1 score for Linear SVM:',(TP/(TP+X)))  #F1 score is the harmonic mean of recall and percision"
   ]
  },
  {
   "cell_type": "code",
   "execution_count": null,
   "metadata": {
    "colab": {
     "background_save": true,
     "base_uri": "https://localhost:8080/"
    },
    "id": "PghIJrQUd9tI",
    "outputId": "26cb9e32-b2dd-42e1-d5b3-a1857a5f3ef4"
   },
   "outputs": [
    {
     "name": "stdout",
     "output_type": "stream",
     "text": [
      "The accuracy score achieved using Naive Bayes is: 74.73 %\n"
     ]
    }
   ],
   "source": [
    "from sklearn.naive_bayes import GaussianNB\n",
    "\n",
    "nb = GaussianNB()\n",
    "\n",
    "nb.fit(X_train,Y_train)\n",
    "\n",
    "Y_pred_nb = nb.predict(X_test)\n",
    "score_nb = round(accuracy_score(Y_pred_nb,Y_test)*100,2)\n",
    "\n",
    "print(\"The accuracy score achieved using Naive Bayes is: \"+str(score_nb)+\" %\")"
   ]
  },
  {
   "cell_type": "code",
   "execution_count": null,
   "metadata": {
    "colab": {
     "background_save": true,
     "base_uri": "https://localhost:8080/",
     "height": 486
    },
    "id": "uaWFqvKrSEPN",
    "outputId": "d1b592b6-a5af-4560-edd2-1fa9d3586364"
   },
   "outputs": [
    {
     "name": "stdout",
     "output_type": "stream",
     "text": [
      "     age  sex  cp  trestbps  chol  fbs  restecg  thalach  exang  oldpeak  \\\n",
      "232   40    1   0       152   223    1        1      181      1      0.0   \n",
      "38    59    1   2       150   212    0        1      157      1      1.6   \n",
      "253   63    1   0       140   187    1        0      144      0      4.0   \n",
      "264   56    1   1       130   221    1        0      163      1      0.0   \n",
      "34    61    1   2       150   243    0        1      137      0      1.0   \n",
      "..   ...  ...  ..       ...   ...  ...      ...      ...    ...      ...   \n",
      "179   58    1   0       128   259    1        0      130      0      3.0   \n",
      "93    52    1   1       134   201    1        1      158      1      0.8   \n",
      "102   62    0   2       130   263    1        1       97      1      1.2   \n",
      "222   58    1   0       146   218    1        1      105      1      2.0   \n",
      "279   65    1   3       138   282    0        0      174      1      1.4   \n",
      "\n",
      "     slope  ca  thal  target  actual_target  \n",
      "232      2   0     3       1              0  \n",
      "38       2   0     2       1              1  \n",
      "253      2   2     3       0              0  \n",
      "264      2   0     3       1              1  \n",
      "34       1   0     2       0              1  \n",
      "..     ...  ..   ...     ...            ...  \n",
      "179      1   2     3       0              0  \n",
      "93       2   1     2       1              1  \n",
      "102      1   1     3       0              0  \n",
      "222      1   1     3       0              0  \n",
      "279      1   1     2       1              0  \n",
      "\n",
      "[91 rows x 15 columns]\n"
     ]
    },
    {
     "data": {
      "application/javascript": [
       "\n",
       "    async function download(id, filename, size) {\n",
       "      if (!google.colab.kernel.accessAllowed) {\n",
       "        return;\n",
       "      }\n",
       "      const div = document.createElement('div');\n",
       "      const label = document.createElement('label');\n",
       "      label.textContent = `Downloading \"${filename}\": `;\n",
       "      div.appendChild(label);\n",
       "      const progress = document.createElement('progress');\n",
       "      progress.max = size;\n",
       "      div.appendChild(progress);\n",
       "      document.body.appendChild(div);\n",
       "\n",
       "      const buffers = [];\n",
       "      let downloaded = 0;\n",
       "\n",
       "      const channel = await google.colab.kernel.comms.open(id);\n",
       "      // Send a message to notify the kernel that we're ready.\n",
       "      channel.send({})\n",
       "\n",
       "      for await (const message of channel.messages) {\n",
       "        // Send a message to notify the kernel that we're ready.\n",
       "        channel.send({})\n",
       "        if (message.buffers) {\n",
       "          for (const buffer of message.buffers) {\n",
       "            buffers.push(buffer);\n",
       "            downloaded += buffer.byteLength;\n",
       "            progress.value = downloaded;\n",
       "          }\n",
       "        }\n",
       "      }\n",
       "      const blob = new Blob(buffers, {type: 'application/binary'});\n",
       "      const a = document.createElement('a');\n",
       "      a.href = window.URL.createObjectURL(blob);\n",
       "      a.download = filename;\n",
       "      div.appendChild(a);\n",
       "      a.click();\n",
       "      div.remove();\n",
       "    }\n",
       "  "
      ],
      "text/plain": [
       "<IPython.core.display.Javascript object>"
      ]
     },
     "metadata": {},
     "output_type": "display_data"
    },
    {
     "data": {
      "application/javascript": [
       "download(\"download_a68550cb-01a7-4470-939f-57d71517b51b\", \"Naive_Bayes.csv\", 3974)"
      ],
      "text/plain": [
       "<IPython.core.display.Javascript object>"
      ]
     },
     "metadata": {},
     "output_type": "display_data"
    }
   ],
   "source": [
    "data_pred = pd.DataFrame(X_test)\n",
    "data_pred = data_pred.assign(target=Y_pred_nb)\n",
    "data_pred = data_pred.assign(actual_target=Y_test)\n",
    "print(data_pred)\n",
    "data_pred.to_csv('Naive_Bayes.csv')\n",
    "from google.colab import files\n",
    "files.download('Naive_Bayes.csv')"
   ]
  },
  {
   "cell_type": "code",
   "execution_count": null,
   "metadata": {
    "colab": {
     "background_save": true,
     "base_uri": "https://localhost:8080/",
     "height": 413
    },
    "id": "rSaCXVO3kq8-",
    "outputId": "ceea8eec-a98f-4e1c-93d7-7f3eb06e1cb0"
   },
   "outputs": [
    {
     "name": "stdout",
     "output_type": "stream",
     "text": [
      "Testing Accuracy for Naive Bayes: 0.7472527472527473\n",
      "Testing Recall for Naive Bayes: 0.7368421052631579\n",
      "Testing Precision for Naive Bayes: 0.6829268292682927\n",
      "Testing Specificity for Naive Bayes: 0.7547169811320755\n",
      "Testing F1 score for Naive Bayes: 0.7088607594936709\n"
     ]
    },
    {
     "data": {
      "image/png": "[encoded data removed]",
      "text/plain": [
       "<Figure size 432x360 with 2 Axes>"
      ]
     },
     "metadata": {},
     "output_type": "display_data"
    }
   ],
   "source": [
    "cm4= confusion_matrix(Y_test,Y_pred_nb)\n",
    "sns.heatmap(cm4, annot=True,cmap='winter',linewidths=0.3, linecolor='black',annot_kws={\"size\": 20})\n",
    "TP=cm4[0][0]\n",
    "TN=cm4[1][1]\n",
    "FN=cm4[1][0]\n",
    "FP=cm4[0][1]\n",
    "  \n",
    "print('Testing Accuracy for Naive Bayes:',(TP+TN)/(TP+TN+FN+FP))\n",
    "print('Testing Recall for Naive Bayes:',(TP/(TP+FN)))  #how many positive records we predicted correctly(Senesitivity)\n",
    "print('Testing Precision for Naive Bayes:',(TP/(TP+FP)))\n",
    "print('Testing Specificity for Naive Bayes:',(TN/(TN+FP)))  #how many negative records we predicted correctly\n",
    "X=(FP+FN)/2\n",
    "print('Testing F1 score for Naive Bayes:',(TP/(TP+X)))  #F1 score is the harmonic mean of recall and percision"
   ]
  },
  {
   "cell_type": "code",
   "execution_count": null,
   "metadata": {
    "colab": {
     "background_save": true
    },
    "id": "no-iGzincPDg"
   },
   "outputs": [],
   "source": [
    "from sklearn.linear_model import LogisticRegression\n",
    "\n",
    "lr = LogisticRegression()\n",
    "\n",
    "lr.fit(X_train,Y_train)\n",
    "\n",
    "Y_pred_lr = lr.predict(X_test)"
   ]
  },
  {
   "cell_type": "code",
   "execution_count": null,
   "metadata": {
    "colab": {
     "background_save": true,
     "base_uri": "https://localhost:8080/"
    },
    "id": "CBt0G8ydl3s0",
    "outputId": "23ba95e8-1e3f-4312-fec9-f912aa0fb0fe"
   },
   "outputs": [
    {
     "name": "stdout",
     "output_type": "stream",
     "text": [
      "The accuracy score achieved using Logistic Regression is: 81.32 %\n"
     ]
    }
   ],
   "source": [
    "score_lr = round(accuracy_score(Y_pred_lr,Y_test)*100,2)\n",
    "\n",
    "print(\"The accuracy score achieved using Logistic Regression is: \"+str(score_lr)+\" %\")"
   ]
  },
  {
   "cell_type": "code",
   "execution_count": null,
   "metadata": {
    "colab": {
     "background_save": true,
     "base_uri": "https://localhost:8080/",
     "height": 486
    },
    "id": "zOmowNGGSpBV",
    "outputId": "edefcb81-9008-4fb2-a19d-bb3e8725d1e0"
   },
   "outputs": [
    {
     "name": "stdout",
     "output_type": "stream",
     "text": [
      "     age  sex  cp  trestbps  chol  fbs  restecg  thalach  exang  oldpeak  \\\n",
      "232   40    1   0       152   223    1        1      181      1      0.0   \n",
      "38    59    1   2       150   212    0        1      157      1      1.6   \n",
      "253   63    1   0       140   187    1        0      144      0      4.0   \n",
      "264   56    1   1       130   221    1        0      163      1      0.0   \n",
      "34    61    1   2       150   243    0        1      137      0      1.0   \n",
      "..   ...  ...  ..       ...   ...  ...      ...      ...    ...      ...   \n",
      "179   58    1   0       128   259    1        0      130      0      3.0   \n",
      "93    52    1   1       134   201    1        1      158      1      0.8   \n",
      "102   62    0   2       130   263    1        1       97      1      1.2   \n",
      "222   58    1   0       146   218    1        1      105      1      2.0   \n",
      "279   65    1   3       138   282    0        0      174      1      1.4   \n",
      "\n",
      "     slope  ca  thal  target  actual_target  \n",
      "232      2   0     3       1              0  \n",
      "38       2   0     2       1              1  \n",
      "253      2   2     3       0              0  \n",
      "264      2   0     3       1              1  \n",
      "34       1   0     2       0              1  \n",
      "..     ...  ..   ...     ...            ...  \n",
      "179      1   2     3       0              0  \n",
      "93       2   1     2       1              1  \n",
      "102      1   1     3       0              0  \n",
      "222      1   1     3       0              0  \n",
      "279      1   1     2       1              0  \n",
      "\n",
      "[91 rows x 15 columns]\n"
     ]
    },
    {
     "data": {
      "application/javascript": [
       "\n",
       "    async function download(id, filename, size) {\n",
       "      if (!google.colab.kernel.accessAllowed) {\n",
       "        return;\n",
       "      }\n",
       "      const div = document.createElement('div');\n",
       "      const label = document.createElement('label');\n",
       "      label.textContent = `Downloading \"${filename}\": `;\n",
       "      div.appendChild(label);\n",
       "      const progress = document.createElement('progress');\n",
       "      progress.max = size;\n",
       "      div.appendChild(progress);\n",
       "      document.body.appendChild(div);\n",
       "\n",
       "      const buffers = [];\n",
       "      let downloaded = 0;\n",
       "\n",
       "      const channel = await google.colab.kernel.comms.open(id);\n",
       "      // Send a message to notify the kernel that we're ready.\n",
       "      channel.send({})\n",
       "\n",
       "      for await (const message of channel.messages) {\n",
       "        // Send a message to notify the kernel that we're ready.\n",
       "        channel.send({})\n",
       "        if (message.buffers) {\n",
       "          for (const buffer of message.buffers) {\n",
       "            buffers.push(buffer);\n",
       "            downloaded += buffer.byteLength;\n",
       "            progress.value = downloaded;\n",
       "          }\n",
       "        }\n",
       "      }\n",
       "      const blob = new Blob(buffers, {type: 'application/binary'});\n",
       "      const a = document.createElement('a');\n",
       "      a.href = window.URL.createObjectURL(blob);\n",
       "      a.download = filename;\n",
       "      div.appendChild(a);\n",
       "      a.click();\n",
       "      div.remove();\n",
       "    }\n",
       "  "
      ],
      "text/plain": [
       "<IPython.core.display.Javascript object>"
      ]
     },
     "metadata": {},
     "output_type": "display_data"
    },
    {
     "data": {
      "application/javascript": [
       "download(\"download_98791a68-77c5-4044-b6f3-5d24d718b74d\", \"Logistic_Regression.csv\", 3974)"
      ],
      "text/plain": [
       "<IPython.core.display.Javascript object>"
      ]
     },
     "metadata": {},
     "output_type": "display_data"
    }
   ],
   "source": [
    "data_pred = pd.DataFrame(X_test)\n",
    "data_pred = data_pred.assign(target=Y_pred_lr)\n",
    "data_pred = data_pred.assign(actual_target=Y_test)\n",
    "print(data_pred)\n",
    "data_pred.to_csv('Logistic_Regression.csv')\n",
    "from google.colab import files\n",
    "files.download('Logistic_Regression.csv')"
   ]
  },
  {
   "cell_type": "code",
   "execution_count": null,
   "metadata": {
    "colab": {
     "background_save": true,
     "base_uri": "https://localhost:8080/",
     "height": 409
    },
    "id": "WSvHRkKgkZr1",
    "outputId": "29666af9-7788-4e52-87df-022e6db7ad5d"
   },
   "outputs": [
    {
     "name": "stdout",
     "output_type": "stream",
     "text": [
      "Testing Accuracy for Logistic Regression: 0.8131868131868132\n",
      "Testing Recall for Logistic Regression: 0.8157894736842105\n",
      "Testing Precision for Logistic Regression: 0.7560975609756098\n",
      "Testing Specificity for Logistic Regression: 0.8113207547169812\n",
      "Testing F1 score for Logistic Regression: 0.7848101265822784\n"
     ]
    },
    {
     "data": {
      "image/png": "[encoded data removed]",
      "text/plain": [
       "<Figure size 432x360 with 2 Axes>"
      ]
     },
     "metadata": {},
     "output_type": "display_data"
    }
   ],
   "source": [
    "cm4= confusion_matrix(Y_test,Y_pred_lr)\n",
    "sns.heatmap(cm4, annot=True,cmap='winter',linewidths=0.3, linecolor='black',annot_kws={\"size\": 20})\n",
    "TP=cm4[0][0]\n",
    "TN=cm4[1][1]\n",
    "FN=cm4[1][0]\n",
    "FP=cm4[0][1]\n",
    "  \n",
    "print('Testing Accuracy for Logistic Regression:',(TP+TN)/(TP+TN+FN+FP))\n",
    "print('Testing Recall for Logistic Regression:',(TP/(TP+FN)))  #how many positive records we predicted correctly(Senesitivity)\n",
    "print('Testing Precision for Logistic Regression:',(TP/(TP+FP)))\n",
    "print('Testing Specificity for Logistic Regression:',(TN/(TN+FP)))  #how many negative records we predicted correctly\n",
    "X=(FP+FN)/2\n",
    "print('Testing F1 score for Logistic Regression:',(TP/(TP+X)))  #F1 score is the harmonic mean of recall and percision"
   ]
  },
  {
   "cell_type": "markdown",
   "metadata": {
    "id": "ZT7wk9Xoqtem"
   },
   "source": [
    "split ratio=80:20"
   ]
  },
  {
   "cell_type": "code",
   "execution_count": null,
   "metadata": {
    "colab": {
     "background_save": true
    },
    "id": "Zi0esoMUcWQz"
   },
   "outputs": [],
   "source": [
    "from sklearn.model_selection import train_test_split\n",
    "from sklearn.metrics import accuracy_score\n",
    "\n",
    "predictors = data.drop(\"target\",axis=1)\n",
    "target = data[\"target\"]\n",
    "\n",
    "X_train,X_test,Y_train,Y_test = train_test_split(predictors,target,test_size=0.20,stratify=target,random_state=2)\n"
   ]
  },
  {
   "cell_type": "code",
   "execution_count": null,
   "metadata": {
    "colab": {
     "background_save": true,
     "base_uri": "https://localhost:8080/"
    },
    "id": "uV0RAAGhdeY5",
    "outputId": "6c6ca88b-62f8-4f5e-8cfe-a1164decf606"
   },
   "outputs": [
    {
     "data": {
      "text/plain": [
       "(242, 13)"
      ]
     },
     "execution_count": null,
     "metadata": {},
     "output_type": "execute_result"
    }
   ],
   "source": [
    "X_train.shape"
   ]
  },
  {
   "cell_type": "code",
   "execution_count": null,
   "metadata": {
    "colab": {
     "background_save": true,
     "base_uri": "https://localhost:8080/"
    },
    "id": "FHHsZNJadeMB",
    "outputId": "64ec800f-3af3-42bf-8d5c-3a18e946b4a6"
   },
   "outputs": [
    {
     "data": {
      "text/plain": [
       "(61, 13)"
      ]
     },
     "execution_count": null,
     "metadata": {},
     "output_type": "execute_result"
    }
   ],
   "source": [
    "X_test.shape"
   ]
  },
  {
   "cell_type": "code",
   "execution_count": null,
   "metadata": {
    "colab": {
     "background_save": true,
     "base_uri": "https://localhost:8080/"
    },
    "id": "xNwhYYqddeDR",
    "outputId": "12ec1594-2ba8-4fad-b5e6-9f36138bed4c"
   },
   "outputs": [
    {
     "data": {
      "text/plain": [
       "(242,)"
      ]
     },
     "execution_count": null,
     "metadata": {},
     "output_type": "execute_result"
    }
   ],
   "source": [
    "Y_train.shape"
   ]
  },
  {
   "cell_type": "code",
   "execution_count": null,
   "metadata": {
    "colab": {
     "background_save": true,
     "base_uri": "https://localhost:8080/"
    },
    "id": "KCoVrZhqdd4_",
    "outputId": "4ea7d3f1-e38c-4e50-dbb7-4055b4bd551f"
   },
   "outputs": [
    {
     "data": {
      "text/plain": [
       "(61,)"
      ]
     },
     "execution_count": null,
     "metadata": {},
     "output_type": "execute_result"
    }
   ],
   "source": [
    "Y_test.shape"
   ]
  },
  {
   "cell_type": "code",
   "execution_count": null,
   "metadata": {
    "colab": {
     "background_save": true,
     "base_uri": "https://localhost:8080/"
    },
    "id": "-3D1qycRdvhv",
    "outputId": "b726b4c3-1b40-4013-e5d7-394ec8363eb6"
   },
   "outputs": [
    {
     "name": "stdout",
     "output_type": "stream",
     "text": [
      "The accuracy score achieved using Linear SVM is: 83.61 %\n"
     ]
    }
   ],
   "source": [
    "from sklearn import svm\n",
    "from sklearn.metrics import confusion_matrix\n",
    "from sklearn.metrics import accuracy_score\n",
    "sv = svm.SVC(kernel='linear',probability=True)\n",
    "sv.fit(X_train, Y_train)\n",
    "Y_pred_svm = sv.predict(X_test)\n",
    "score_svm = round(accuracy_score(Y_pred_svm,Y_test)*100,2)\n",
    "\n",
    "print(\"The accuracy score achieved using Linear SVM is: \"+str(score_svm)+\" %\")\n"
   ]
  },
  {
   "cell_type": "code",
   "execution_count": null,
   "metadata": {
    "colab": {
     "background_save": true,
     "base_uri": "https://localhost:8080/",
     "height": 409
    },
    "id": "LP4hUwtykd5n",
    "outputId": "4a1c1ea0-907e-4079-e9fd-40a7f05a4b1e"
   },
   "outputs": [
    {
     "name": "stdout",
     "output_type": "stream",
     "text": [
      "Testing Accuracy for Linear SVM: 0.8360655737704918\n",
      "Testing Recall for Linear SVM: 0.9090909090909091\n",
      "Testing Precision for Linear SVM: 0.7142857142857143\n",
      "Testing Specificity for Linear SVM: 0.7948717948717948\n",
      "Testing F1 score for Linear SVM: 0.8\n"
     ]
    },
    {
     "data": {
      "image/png": "[encoded data removed]",
      "text/plain": [
       "<Figure size 432x360 with 2 Axes>"
      ]
     },
     "metadata": {},
     "output_type": "display_data"
    }
   ],
   "source": [
    "cm4= confusion_matrix(Y_test,Y_pred_svm)\n",
    "sns.heatmap(cm4, annot=True,cmap='winter',linewidths=0.3, linecolor='black',annot_kws={\"size\": 20})\n",
    "TP=cm4[0][0]\n",
    "TN=cm4[1][1]\n",
    "FN=cm4[1][0]\n",
    "FP=cm4[0][1]\n",
    "  \n",
    "print('Testing Accuracy for Linear SVM:',(TP+TN)/(TP+TN+FN+FP))\n",
    "print('Testing Recall for Linear SVM:',(TP/(TP+FN)))  #how many positive records we predicted correctly(Senesitivity)\n",
    "print('Testing Precision for Linear SVM:',(TP/(TP+FP)))\n",
    "print('Testing Specificity for Linear SVM:',(TN/(TN+FP)))  #how many negative records we predicted correctly\n",
    "X=(FP+FN)/2\n",
    "print('Testing F1 score for Linear SVM:',(TP/(TP+X)))  #F1 score is the harmonic mean of recall and percision"
   ]
  },
  {
   "cell_type": "code",
   "execution_count": null,
   "metadata": {
    "colab": {
     "background_save": true,
     "base_uri": "https://localhost:8080/"
    },
    "id": "VqyEJ1Pnd8CK",
    "outputId": "41c68821-8b16-4cd3-c2ae-a429e7d7b48d"
   },
   "outputs": [
    {
     "name": "stdout",
     "output_type": "stream",
     "text": [
      "The accuracy score achieved using Naive Bayes is: 77.05 %\n"
     ]
    }
   ],
   "source": [
    "from sklearn.naive_bayes import GaussianNB\n",
    "\n",
    "nb = GaussianNB()\n",
    "\n",
    "nb.fit(X_train,Y_train)\n",
    "\n",
    "Y_pred_nb = nb.predict(X_test)\n",
    "score_nb = round(accuracy_score(Y_pred_nb,Y_test)*100,2)\n",
    "\n",
    "print(\"The accuracy score achieved using Naive Bayes is: \"+str(score_nb)+\" %\")"
   ]
  },
  {
   "cell_type": "code",
   "execution_count": null,
   "metadata": {
    "colab": {
     "background_save": true,
     "base_uri": "https://localhost:8080/",
     "height": 409
    },
    "id": "vVqTqDWlkn_c",
    "outputId": "c179a903-821c-4947-fcf9-8acfb78dde18"
   },
   "outputs": [
    {
     "name": "stdout",
     "output_type": "stream",
     "text": [
      "Testing Accuracy for Naive Bayes: 0.7704918032786885\n",
      "Testing Recall for Naive Bayes: 0.7692307692307693\n",
      "Testing Precision for Naive Bayes: 0.7142857142857143\n",
      "Testing Specificity for Naive Bayes: 0.7714285714285715\n",
      "Testing F1 score for Naive Bayes: 0.7407407407407407\n"
     ]
    },
    {
     "data": {
      "image/png": "[encoded data removed]",
      "text/plain": [
       "<Figure size 432x360 with 2 Axes>"
      ]
     },
     "metadata": {},
     "output_type": "display_data"
    }
   ],
   "source": [
    "cm4= confusion_matrix(Y_test,Y_pred_nb)\n",
    "sns.heatmap(cm4, annot=True,cmap='winter',linewidths=0.3, linecolor='black',annot_kws={\"size\": 20})\n",
    "TP=cm4[0][0]\n",
    "TN=cm4[1][1]\n",
    "FN=cm4[1][0]\n",
    "FP=cm4[0][1]\n",
    "  \n",
    "print('Testing Accuracy for Naive Bayes:',(TP+TN)/(TP+TN+FN+FP))\n",
    "print('Testing Recall for Naive Bayes:',(TP/(TP+FN)))  #how many positive records we predicted correctly(Senesitivity)\n",
    "print('Testing Precision for Naive Bayes:',(TP/(TP+FP)))\n",
    "print('Testing Specificity for Naive Bayes:',(TN/(TN+FP)))  #how many negative records we predicted correctly\n",
    "X=(FP+FN)/2\n",
    "print('Testing F1 score for Naive Bayes:',(TP/(TP+X)))  #F1 score is the harmonic mean of recall and percision"
   ]
  },
  {
   "cell_type": "code",
   "execution_count": null,
   "metadata": {
    "colab": {
     "background_save": true
    },
    "id": "L65ihpLkcNAG"
   },
   "outputs": [],
   "source": [
    "from sklearn.linear_model import LogisticRegression\n",
    "\n",
    "lr = LogisticRegression()\n",
    "\n",
    "lr.fit(X_train,Y_train)\n",
    "\n",
    "Y_pred_lr = lr.predict(X_test)"
   ]
  },
  {
   "cell_type": "code",
   "execution_count": null,
   "metadata": {
    "colab": {
     "background_save": true,
     "base_uri": "https://localhost:8080/"
    },
    "id": "GobAFgMQcTVY",
    "outputId": "775cd224-4127-4a25-8f1b-b68f235a2c75"
   },
   "outputs": [
    {
     "name": "stdout",
     "output_type": "stream",
     "text": [
      "The accuracy score achieved using Logistic Regression is: 83.61 %\n"
     ]
    }
   ],
   "source": [
    "from sklearn.metrics import accuracy_score\n",
    "score_lr = round(accuracy_score(Y_pred_lr,Y_test)*100,2)\n",
    "\n",
    "print(\"The accuracy score achieved using Logistic Regression is: \"+str(score_lr)+\" %\")"
   ]
  },
  {
   "cell_type": "code",
   "execution_count": null,
   "metadata": {
    "colab": {
     "background_save": true,
     "base_uri": "https://localhost:8080/",
     "height": 413
    },
    "id": "kxXPJwW5kYCt",
    "outputId": "5c923f05-d781-4d67-aa6b-1bc114c975c6"
   },
   "outputs": [
    {
     "name": "stdout",
     "output_type": "stream",
     "text": [
      "Testing Accuracy for Logistic Regression: 0.8360655737704918\n",
      "Testing Recall for Logistic Regression: 0.875\n",
      "Testing Precision for Logistic Regression: 0.75\n",
      "Testing Specificity for Logistic Regression: 0.8108108108108109\n",
      "Testing F1 score for Logistic Regression: 0.8076923076923077\n"
     ]
    },
    {
     "data": {
      "image/png": "[encoded data removed]",
      "text/plain": [
       "<Figure size 432x360 with 2 Axes>"
      ]
     },
     "metadata": {},
     "output_type": "display_data"
    }
   ],
   "source": [
    "cm4= confusion_matrix(Y_test,Y_pred_lr)\n",
    "sns.heatmap(cm4, annot=True,cmap='winter',linewidths=0.3, linecolor='black',annot_kws={\"size\": 20})\n",
    "TP=cm4[0][0]\n",
    "TN=cm4[1][1]\n",
    "FN=cm4[1][0]\n",
    "FP=cm4[0][1]\n",
    "  \n",
    "print('Testing Accuracy for Logistic Regression:',(TP+TN)/(TP+TN+FN+FP))\n",
    "print('Testing Recall for Logistic Regression:',(TP/(TP+FN)))  #how many positive records we predicted correctly(Senesitivity)\n",
    "print('Testing Precision for Logistic Regression:',(TP/(TP+FP)))\n",
    "print('Testing Specificity for Logistic Regression:',(TN/(TN+FP)))  #how many negative records we predicted correctly\n",
    "X=(FP+FN)/2\n",
    "print('Testing F1 score for Logistic Regression:',(TP/(TP+X)))  #F1 score is the harmonic mean of recall and percision"
   ]
  },
  {
   "cell_type": "code",
   "execution_count": null,
   "metadata": {
    "colab": {
     "background_save": true,
     "base_uri": "https://localhost:8080/",
     "height": 322
    },
    "id": "cR-epg5UsOzK",
    "outputId": "76929cee-0368-43e1-ab00-36c53025ca0d"
   },
   "outputs": [
    {
     "data": {
      "image/png": "[encoded data removed]",
      "text/plain": [
       "<Figure size 432x360 with 1 Axes>"
      ]
     },
     "metadata": {},
     "output_type": "display_data"
    }
   ],
   "source": [
    "plt.figure(0).clf()\n",
    "from sklearn import metrics\n",
    "y_pred_proba=lr.predict_proba(X_test)[:,1]\n",
    "fpr,tpr,_=metrics.roc_curve(Y_test,y_pred_proba)\n",
    "auc=round(metrics.roc_auc_score(Y_test,y_pred_proba),2)\n",
    "plt.plot(fpr,tpr,label=\"AUC logistic=\"+str(auc))\n",
    "\n",
    "\n",
    "y_pred_proba=nb.predict_proba(X_test)[:,1]\n",
    "fpr,tpr,_=metrics.roc_curve(Y_test,y_pred_proba)\n",
    "auc=round(metrics.roc_auc_score(Y_test,y_pred_proba),2)\n",
    "plt.plot(fpr,tpr,label=\"AUC navie bayes=\"+str(auc))\n",
    "\n",
    "y_pred_proba=sv.predict_proba(X_test)[:,1]\n",
    "fpr,tpr,_=metrics.roc_curve(Y_test,y_pred_proba)\n",
    "auc=round(metrics.roc_auc_score(Y_test,y_pred_proba),2)\n",
    "plt.plot(fpr,tpr,label=\"AUC svm=\"+str(auc))\n",
    "\n",
    "plt.legend()\n",
    "plt.show()"
   ]
  },
  {
   "cell_type": "markdown",
   "metadata": {
    "id": "7UL9Kqm2hRVv"
   },
   "source": [
    "#WITH FEATURE SELECTION "
   ]
  },
  {
   "cell_type": "code",
   "execution_count": null,
   "metadata": {
    "colab": {
     "background_save": true
    },
    "id": "hqkSgylQvH7S"
   },
   "outputs": [],
   "source": [
    "data=data[['exang', 'cp','oldpeak','thalach','ca','slope','target']]"
   ]
  },
  {
   "cell_type": "code",
   "execution_count": null,
   "metadata": {
    "colab": {
     "background_save": true,
     "base_uri": "https://localhost:8080/"
    },
    "id": "1D8XPU5IrlVk",
    "outputId": "d047a3dd-3df5-4131-bdad-4d8a48f0c044"
   },
   "outputs": [
    {
     "data": {
      "text/plain": [
       "exang       0.469794\n",
       "cp          1.032052\n",
       "oldpeak     1.161075\n",
       "thalach    22.905161\n",
       "ca          1.022606\n",
       "slope       0.616226\n",
       "target      0.498835\n",
       "dtype: float64"
      ]
     },
     "execution_count": null,
     "metadata": {},
     "output_type": "execute_result"
    }
   ],
   "source": [
    "data.std()"
   ]
  },
  {
   "cell_type": "markdown",
   "metadata": {
    "id": "WO32EA4_qxwy"
   },
   "source": [
    "**split ratio=70:30**"
   ]
  },
  {
   "cell_type": "code",
   "execution_count": null,
   "metadata": {
    "colab": {
     "background_save": true
    },
    "id": "3yUzVbb7IUe5"
   },
   "outputs": [],
   "source": [
    "from sklearn.model_selection import train_test_split\n",
    "\n",
    "predictors = data.drop(\"target\",axis=1)\n",
    "target = data[\"target\"]\n",
    "\n",
    "X_train,X_test,Y_train,Y_test = train_test_split(predictors,target,test_size=0.30,stratify=target,random_state=2)"
   ]
  },
  {
   "cell_type": "code",
   "execution_count": null,
   "metadata": {
    "colab": {
     "background_save": true,
     "base_uri": "https://localhost:8080/"
    },
    "id": "X0hxZm6uPCZj",
    "outputId": "5877327d-edbd-40ef-8b2f-db7d1bebfd02"
   },
   "outputs": [
    {
     "data": {
      "text/plain": [
       "(212, 6)"
      ]
     },
     "execution_count": null,
     "metadata": {},
     "output_type": "execute_result"
    }
   ],
   "source": [
    "X_train.shape"
   ]
  },
  {
   "cell_type": "code",
   "execution_count": null,
   "metadata": {
    "colab": {
     "background_save": true,
     "base_uri": "https://localhost:8080/"
    },
    "id": "b-GVUUYoPCKy",
    "outputId": "104fc516-05a9-4c79-d33f-37b7c1e8a525"
   },
   "outputs": [
    {
     "data": {
      "text/plain": [
       "(91, 6)"
      ]
     },
     "execution_count": null,
     "metadata": {},
     "output_type": "execute_result"
    }
   ],
   "source": [
    "X_test.shape"
   ]
  },
  {
   "cell_type": "code",
   "execution_count": null,
   "metadata": {
    "colab": {
     "background_save": true,
     "base_uri": "https://localhost:8080/"
    },
    "id": "3dlEh74GPCDX",
    "outputId": "5b71a3f5-1311-416d-aabe-002474539662"
   },
   "outputs": [
    {
     "data": {
      "text/plain": [
       "(212,)"
      ]
     },
     "execution_count": null,
     "metadata": {},
     "output_type": "execute_result"
    }
   ],
   "source": [
    "Y_train.shape\n"
   ]
  },
  {
   "cell_type": "code",
   "execution_count": null,
   "metadata": {
    "colab": {
     "background_save": true,
     "base_uri": "https://localhost:8080/"
    },
    "id": "fjVqCKv0PB3a",
    "outputId": "e3e16870-34dd-4392-cef0-a0597160713d"
   },
   "outputs": [
    {
     "data": {
      "text/plain": [
       "(91,)"
      ]
     },
     "execution_count": null,
     "metadata": {},
     "output_type": "execute_result"
    }
   ],
   "source": [
    "Y_test.shape"
   ]
  },
  {
   "cell_type": "code",
   "execution_count": null,
   "metadata": {
    "colab": {
     "background_save": true,
     "base_uri": "https://localhost:8080/"
    },
    "id": "wpJWu40eHTPd",
    "outputId": "34fbf2a9-4fe2-4fd0-ccd1-73dc62fc0d25"
   },
   "outputs": [
    {
     "name": "stdout",
     "output_type": "stream",
     "text": [
      "The accuracy score achieved using Linear SVM is: 76.92 %\n"
     ]
    }
   ],
   "source": [
    "from sklearn import svm\n",
    "from sklearn.metrics import confusion_matrix\n",
    "from sklearn.metrics import accuracy_score\n",
    "sv = svm.SVC(kernel='linear',probability=True)\n",
    "sv.fit(X_train, Y_train)\n",
    "Y_pred_svm = sv.predict(X_test)\n",
    "score_svm = round(accuracy_score(Y_pred_svm,Y_test)*100,2)\n",
    "\n",
    "print(\"The accuracy score achieved using Linear SVM is: \"+str(score_svm)+\" %\")\n"
   ]
  },
  {
   "cell_type": "code",
   "execution_count": null,
   "metadata": {
    "colab": {
     "background_save": true,
     "base_uri": "https://localhost:8080/"
    },
    "id": "ZMzRp2o6VfxK",
    "outputId": "7b38c432-705f-4d70-f11e-456dd3ecc1be"
   },
   "outputs": [
    {
     "name": "stdout",
     "output_type": "stream",
     "text": [
      "     exang  cp  oldpeak  thalach  ca  slope  target  actual_target\n",
      "232      1   0      0.0      181   0      2       1              0\n",
      "38       1   2      1.6      157   0      2       1              1\n",
      "253      0   0      4.0      144   2      2       0              0\n",
      "264      1   1      0.0      163   0      2       1              1\n",
      "34       0   2      1.0      137   0      1       1              1\n",
      "..     ...  ..      ...      ...  ..    ...     ...            ...\n",
      "179      0   0      3.0      130   2      1       0              0\n",
      "93       1   1      0.8      158   1      2       1              1\n",
      "102      1   2      1.2       97   1      1       0              0\n",
      "222      1   0      2.0      105   1      1       0              0\n",
      "279      1   3      1.4      174   1      1       1              0\n",
      "\n",
      "[91 rows x 8 columns]\n"
     ]
    }
   ],
   "source": [
    "data_pred = pd.DataFrame(X_test)\n",
    "data_pred = data_pred.assign(target=Y_pred_svm)\n",
    "data_pred = data_pred.assign(actual_target=Y_test)\n",
    "print(data_pred)"
   ]
  },
  {
   "cell_type": "code",
   "execution_count": null,
   "metadata": {
    "colab": {
     "background_save": true,
     "base_uri": "https://localhost:8080/",
     "height": 17
    },
    "id": "54NPQ6OORce_",
    "outputId": "e91eb897-fad6-4af3-a6c2-ee16d5537eb2"
   },
   "outputs": [
    {
     "data": {
      "application/javascript": [
       "\n",
       "    async function download(id, filename, size) {\n",
       "      if (!google.colab.kernel.accessAllowed) {\n",
       "        return;\n",
       "      }\n",
       "      const div = document.createElement('div');\n",
       "      const label = document.createElement('label');\n",
       "      label.textContent = `Downloading \"${filename}\": `;\n",
       "      div.appendChild(label);\n",
       "      const progress = document.createElement('progress');\n",
       "      progress.max = size;\n",
       "      div.appendChild(progress);\n",
       "      document.body.appendChild(div);\n",
       "\n",
       "      const buffers = [];\n",
       "      let downloaded = 0;\n",
       "\n",
       "      const channel = await google.colab.kernel.comms.open(id);\n",
       "      // Send a message to notify the kernel that we're ready.\n",
       "      channel.send({})\n",
       "\n",
       "      for await (const message of channel.messages) {\n",
       "        // Send a message to notify the kernel that we're ready.\n",
       "        channel.send({})\n",
       "        if (message.buffers) {\n",
       "          for (const buffer of message.buffers) {\n",
       "            buffers.push(buffer);\n",
       "            downloaded += buffer.byteLength;\n",
       "            progress.value = downloaded;\n",
       "          }\n",
       "        }\n",
       "      }\n",
       "      const blob = new Blob(buffers, {type: 'application/binary'});\n",
       "      const a = document.createElement('a');\n",
       "      a.href = window.URL.createObjectURL(blob);\n",
       "      a.download = filename;\n",
       "      div.appendChild(a);\n",
       "      a.click();\n",
       "      div.remove();\n",
       "    }\n",
       "  "
      ],
      "text/plain": [
       "<IPython.core.display.Javascript object>"
      ]
     },
     "metadata": {},
     "output_type": "display_data"
    },
    {
     "data": {
      "application/javascript": [
       "download(\"download_13f3c539-fd3b-4659-8baf-75ebf32ecbb3\", \"SVM.csv\", 2206)"
      ],
      "text/plain": [
       "<IPython.core.display.Javascript object>"
      ]
     },
     "metadata": {},
     "output_type": "display_data"
    }
   ],
   "source": [
    "data_pred.to_csv('SVM.csv')\n",
    "from google.colab import files\n",
    "files.download('SVM.csv')"
   ]
  },
  {
   "cell_type": "code",
   "execution_count": null,
   "metadata": {
    "colab": {
     "background_save": true
    },
    "id": "0AL4N4FuY3VB"
   },
   "outputs": [],
   "source": [
    "#data = pd.DataFrame(X_test, columns = ['age','sex','cp','trestbps','chol','fbs','restecg','thalach','exang','oldpeak','slope','ca','thal','target'])\n",
    "#print(data)\n",
    "#data.to_csv('ex.csv')\n",
    "#from google.colab import files \n",
    "#files.download('ex.csv')"
   ]
  },
  {
   "cell_type": "code",
   "execution_count": null,
   "metadata": {
    "colab": {
     "background_save": true,
     "base_uri": "https://localhost:8080/",
     "height": 409
    },
    "id": "_MfOviN7gxsS",
    "outputId": "45951c55-a025-4d88-c7ba-c9b078f827cc"
   },
   "outputs": [
    {
     "name": "stdout",
     "output_type": "stream",
     "text": [
      "Testing Accuracy for Linear SVM: 0.7692307692307693\n",
      "Testing Recall for Linear SVM: 0.8125\n",
      "Testing Precision for Linear SVM: 0.6341463414634146\n",
      "Testing Specificity for Linear SVM: 0.7457627118644068\n",
      "Testing F1 score for Linear SVM: 0.7123287671232876\n"
     ]
    },
    {
     "data": {
      "image/png": "[encoded data removed]",
      "text/plain": [
       "<Figure size 432x360 with 2 Axes>"
      ]
     },
     "metadata": {},
     "output_type": "display_data"
    }
   ],
   "source": [
    "cm4= confusion_matrix(Y_test,Y_pred_svm)\n",
    "sns.heatmap(cm4, annot=True,cmap='winter',linewidths=0.3, linecolor='black',annot_kws={\"size\": 20})\n",
    "TP=cm4[0][0]\n",
    "TN=cm4[1][1]\n",
    "FN=cm4[1][0]\n",
    "FP=cm4[0][1]\n",
    "  \n",
    "print('Testing Accuracy for Linear SVM:',(TP+TN)/(TP+TN+FN+FP))\n",
    "print('Testing Recall for Linear SVM:',(TP/(TP+FN)))  #how many positive records we predicted correctly(Senesitivity)\n",
    "print('Testing Precision for Linear SVM:',(TP/(TP+FP)))\n",
    "print('Testing Specificity for Linear SVM:',(TN/(TN+FP)))  #how many negative records we predicted correctly\n",
    "X=(FP+FN)/2\n",
    "print('Testing F1 score for Linear SVM:',(TP/(TP+X)))  #F1 score is the harmonic mean of recall and percision"
   ]
  },
  {
   "cell_type": "code",
   "execution_count": null,
   "metadata": {
    "colab": {
     "background_save": true
    },
    "id": "NhoqQpsFJx12"
   },
   "outputs": [],
   "source": [
    "from sklearn.linear_model import LogisticRegression\n",
    "\n",
    "lr = LogisticRegression()\n",
    "\n",
    "lr.fit(X_train,Y_train)\n",
    "\n",
    "Y_pred_lr = lr.predict(X_test)"
   ]
  },
  {
   "cell_type": "code",
   "execution_count": null,
   "metadata": {
    "colab": {
     "background_save": true,
     "base_uri": "https://localhost:8080/"
    },
    "id": "Oh_U8j5bJ5yf",
    "outputId": "140c35f3-16e3-4872-98fd-8a945a1e2473"
   },
   "outputs": [
    {
     "name": "stdout",
     "output_type": "stream",
     "text": [
      "The accuracy score achieved using Logistic Regression is: 78.02 %\n"
     ]
    }
   ],
   "source": [
    "\n",
    "score_lr = round(accuracy_score(Y_pred_lr,Y_test)*100,2)\n",
    "\n",
    "print(\"The accuracy score achieved using Logistic Regression is: \"+str(score_lr)+\" %\")"
   ]
  },
  {
   "cell_type": "code",
   "execution_count": null,
   "metadata": {
    "colab": {
     "background_save": true,
     "base_uri": "https://localhost:8080/"
    },
    "id": "-Pqct5BxXF2X",
    "outputId": "eafeb8de-6bf4-40de-985b-32b996ecb567"
   },
   "outputs": [
    {
     "name": "stdout",
     "output_type": "stream",
     "text": [
      "     exang  cp  oldpeak  thalach  ca  slope  target  actual_target\n",
      "232      1   0      0.0      181   0      2       1              0\n",
      "38       1   2      1.6      157   0      2       1              1\n",
      "253      0   0      4.0      144   2      2       0              0\n",
      "264      1   1      0.0      163   0      2       1              1\n",
      "34       0   2      1.0      137   0      1       1              1\n",
      "..     ...  ..      ...      ...  ..    ...     ...            ...\n",
      "179      0   0      3.0      130   2      1       0              0\n",
      "93       1   1      0.8      158   1      2       1              1\n",
      "102      1   2      1.2       97   1      1       0              0\n",
      "222      1   0      2.0      105   1      1       0              0\n",
      "279      1   3      1.4      174   1      1       1              0\n",
      "\n",
      "[91 rows x 8 columns]\n"
     ]
    }
   ],
   "source": [
    "data_pred = pd.DataFrame(X_test)\n",
    "data_pred = data_pred.assign(target=Y_pred_lr)\n",
    "data_pred = data_pred.assign(actual_target=Y_test)\n",
    "print(data_pred)"
   ]
  },
  {
   "cell_type": "code",
   "execution_count": null,
   "metadata": {
    "colab": {
     "background_save": true,
     "base_uri": "https://localhost:8080/",
     "height": 17
    },
    "id": "lJ-yAtRlXQ3W",
    "outputId": "65439954-f8a7-4397-b7cc-29bb829a9260"
   },
   "outputs": [
    {
     "data": {
      "application/javascript": [
       "\n",
       "    async function download(id, filename, size) {\n",
       "      if (!google.colab.kernel.accessAllowed) {\n",
       "        return;\n",
       "      }\n",
       "      const div = document.createElement('div');\n",
       "      const label = document.createElement('label');\n",
       "      label.textContent = `Downloading \"${filename}\": `;\n",
       "      div.appendChild(label);\n",
       "      const progress = document.createElement('progress');\n",
       "      progress.max = size;\n",
       "      div.appendChild(progress);\n",
       "      document.body.appendChild(div);\n",
       "\n",
       "      const buffers = [];\n",
       "      let downloaded = 0;\n",
       "\n",
       "      const channel = await google.colab.kernel.comms.open(id);\n",
       "      // Send a message to notify the kernel that we're ready.\n",
       "      channel.send({})\n",
       "\n",
       "      for await (const message of channel.messages) {\n",
       "        // Send a message to notify the kernel that we're ready.\n",
       "        channel.send({})\n",
       "        if (message.buffers) {\n",
       "          for (const buffer of message.buffers) {\n",
       "            buffers.push(buffer);\n",
       "            downloaded += buffer.byteLength;\n",
       "            progress.value = downloaded;\n",
       "          }\n",
       "        }\n",
       "      }\n",
       "      const blob = new Blob(buffers, {type: 'application/binary'});\n",
       "      const a = document.createElement('a');\n",
       "      a.href = window.URL.createObjectURL(blob);\n",
       "      a.download = filename;\n",
       "      div.appendChild(a);\n",
       "      a.click();\n",
       "      div.remove();\n",
       "    }\n",
       "  "
      ],
      "text/plain": [
       "<IPython.core.display.Javascript object>"
      ]
     },
     "metadata": {},
     "output_type": "display_data"
    },
    {
     "data": {
      "application/javascript": [
       "download(\"download_c0f531a7-fec0-4b1a-9221-1f39b63718dc\", \"Logistic_Regression.csv\", 2206)"
      ],
      "text/plain": [
       "<IPython.core.display.Javascript object>"
      ]
     },
     "metadata": {},
     "output_type": "display_data"
    }
   ],
   "source": [
    "\n",
    "data_pred.to_csv('Logistic_Regression.csv')\n",
    "from google.colab import files\n",
    "files.download('Logistic_Regression.csv')"
   ]
  },
  {
   "cell_type": "code",
   "execution_count": null,
   "metadata": {
    "colab": {
     "background_save": true,
     "base_uri": "https://localhost:8080/",
     "height": 409
    },
    "id": "O3CukbChYKZA",
    "outputId": "84b811c1-a7c7-414a-e0f9-ff84a04134cb"
   },
   "outputs": [
    {
     "name": "stdout",
     "output_type": "stream",
     "text": [
      "Testing Accuracy for Logistic Regression: 0.7802197802197802\n",
      "Testing Recall for Logistic Regression: 0.8181818181818182\n",
      "Testing Precision for Logistic Regression: 0.6585365853658537\n",
      "Testing Specificity for Logistic Regression: 0.7586206896551724\n",
      "Testing F1 score for Logistic Regression: 0.7297297297297297\n"
     ]
    },
    {
     "data": {
      "image/png": "[encoded data removed]",
      "text/plain": [
       "<Figure size 432x360 with 2 Axes>"
      ]
     },
     "metadata": {},
     "output_type": "display_data"
    }
   ],
   "source": [
    "cm4= confusion_matrix(Y_test,Y_pred_lr)\n",
    "sns.heatmap(cm4, annot=True,cmap='winter',linewidths=0.3, linecolor='black',annot_kws={\"size\": 20})\n",
    "TP=cm4[0][0]\n",
    "TN=cm4[1][1]\n",
    "FN=cm4[1][0]\n",
    "FP=cm4[0][1]\n",
    "  \n",
    "print('Testing Accuracy for Logistic Regression:',(TP+TN)/(TP+TN+FN+FP))\n",
    "print('Testing Recall for Logistic Regression:',(TP/(TP+FN)))  #how many positive records we predicted correctly(Senesitivity)\n",
    "print('Testing Precision for Logistic Regression:',(TP/(TP+FP)))\n",
    "print('Testing Specificity for Logistic Regression:',(TN/(TN+FP)))  #how many negative records we predicted correctly\n",
    "X=(FP+FN)/2\n",
    "print('Testing F1 score for Logistic Regression:',(TP/(TP+X)))  #F1 score is the harmonic mean of recall and percision"
   ]
  },
  {
   "cell_type": "code",
   "execution_count": null,
   "metadata": {
    "colab": {
     "background_save": true
    },
    "id": "8ITvbC9GXucR"
   },
   "outputs": [],
   "source": [
    "from sklearn.naive_bayes import GaussianNB\n",
    "\n",
    "nb = GaussianNB()\n",
    "\n",
    "nb.fit(X_train,Y_train)\n",
    "\n",
    "Y_pred_nb = nb.predict(X_test)"
   ]
  },
  {
   "cell_type": "code",
   "execution_count": null,
   "metadata": {
    "colab": {
     "background_save": true,
     "base_uri": "https://localhost:8080/"
    },
    "id": "J5pYF9XmXxYv",
    "outputId": "b1a20f89-44ca-49f1-a370-bac74fa6a453"
   },
   "outputs": [
    {
     "data": {
      "text/plain": [
       "(91,)"
      ]
     },
     "execution_count": null,
     "metadata": {},
     "output_type": "execute_result"
    }
   ],
   "source": [
    "Y_pred_nb.shape"
   ]
  },
  {
   "cell_type": "code",
   "execution_count": null,
   "metadata": {
    "colab": {
     "background_save": true,
     "base_uri": "https://localhost:8080/"
    },
    "id": "ApVISaUYXz7Q",
    "outputId": "c613c187-1202-4ed2-ac94-ef81d61963b9"
   },
   "outputs": [
    {
     "name": "stdout",
     "output_type": "stream",
     "text": [
      "The accuracy score achieved using Naive Bayes is: 71.43 %\n"
     ]
    }
   ],
   "source": [
    "score_nb = round(accuracy_score(Y_pred_nb,Y_test)*100,2)\n",
    "\n",
    "print(\"The accuracy score achieved using Naive Bayes is: \"+str(score_nb)+\" %\")"
   ]
  },
  {
   "cell_type": "code",
   "execution_count": null,
   "metadata": {
    "colab": {
     "background_save": true,
     "base_uri": "https://localhost:8080/"
    },
    "id": "xdpHmiGXXEr0",
    "outputId": "278ec100-430c-4e8b-ace1-2d1d840878d4"
   },
   "outputs": [
    {
     "name": "stdout",
     "output_type": "stream",
     "text": [
      "     exang  cp  oldpeak  thalach  ca  slope  target  actual_target\n",
      "232      1   0      0.0      181   0      2       1              0\n",
      "38       1   2      1.6      157   0      2       1              1\n",
      "253      0   0      4.0      144   2      2       0              0\n",
      "264      1   1      0.0      163   0      2       1              1\n",
      "34       0   2      1.0      137   0      1       0              1\n",
      "..     ...  ..      ...      ...  ..    ...     ...            ...\n",
      "179      0   0      3.0      130   2      1       0              0\n",
      "93       1   1      0.8      158   1      2       1              1\n",
      "102      1   2      1.2       97   1      1       0              0\n",
      "222      1   0      2.0      105   1      1       0              0\n",
      "279      1   3      1.4      174   1      1       1              0\n",
      "\n",
      "[91 rows x 8 columns]\n"
     ]
    }
   ],
   "source": [
    "data_pred = pd.DataFrame(X_test)\n",
    "data_pred = data_pred.assign(target=Y_pred_nb)\n",
    "data_pred = data_pred.assign(actual_target=Y_test)\n",
    "print(data_pred)"
   ]
  },
  {
   "cell_type": "code",
   "execution_count": null,
   "metadata": {
    "colab": {
     "background_save": true,
     "base_uri": "https://localhost:8080/",
     "height": 17
    },
    "id": "Ay3FJNnhX6EZ",
    "outputId": "cb35f64c-7f41-43a6-fb01-0e283b0391eb"
   },
   "outputs": [
    {
     "data": {
      "application/javascript": [
       "\n",
       "    async function download(id, filename, size) {\n",
       "      if (!google.colab.kernel.accessAllowed) {\n",
       "        return;\n",
       "      }\n",
       "      const div = document.createElement('div');\n",
       "      const label = document.createElement('label');\n",
       "      label.textContent = `Downloading \"${filename}\": `;\n",
       "      div.appendChild(label);\n",
       "      const progress = document.createElement('progress');\n",
       "      progress.max = size;\n",
       "      div.appendChild(progress);\n",
       "      document.body.appendChild(div);\n",
       "\n",
       "      const buffers = [];\n",
       "      let downloaded = 0;\n",
       "\n",
       "      const channel = await google.colab.kernel.comms.open(id);\n",
       "      // Send a message to notify the kernel that we're ready.\n",
       "      channel.send({})\n",
       "\n",
       "      for await (const message of channel.messages) {\n",
       "        // Send a message to notify the kernel that we're ready.\n",
       "        channel.send({})\n",
       "        if (message.buffers) {\n",
       "          for (const buffer of message.buffers) {\n",
       "            buffers.push(buffer);\n",
       "            downloaded += buffer.byteLength;\n",
       "            progress.value = downloaded;\n",
       "          }\n",
       "        }\n",
       "      }\n",
       "      const blob = new Blob(buffers, {type: 'application/binary'});\n",
       "      const a = document.createElement('a');\n",
       "      a.href = window.URL.createObjectURL(blob);\n",
       "      a.download = filename;\n",
       "      div.appendChild(a);\n",
       "      a.click();\n",
       "      div.remove();\n",
       "    }\n",
       "  "
      ],
      "text/plain": [
       "<IPython.core.display.Javascript object>"
      ]
     },
     "metadata": {},
     "output_type": "display_data"
    },
    {
     "data": {
      "application/javascript": [
       "download(\"download_36c77d7d-7c47-4c63-9a20-24349db04c11\", \"Naive_Bayes.csv\", 2206)"
      ],
      "text/plain": [
       "<IPython.core.display.Javascript object>"
      ]
     },
     "metadata": {},
     "output_type": "display_data"
    }
   ],
   "source": [
    "\n",
    "data_pred.to_csv('Naive_Bayes.csv')\n",
    "from google.colab import files\n",
    "files.download('Naive_Bayes.csv')"
   ]
  },
  {
   "cell_type": "code",
   "execution_count": null,
   "metadata": {
    "colab": {
     "background_save": true,
     "base_uri": "https://localhost:8080/",
     "height": 413
    },
    "id": "49tZEyzeYWij",
    "outputId": "8e615063-dd00-4d06-d475-873b69d1f096"
   },
   "outputs": [
    {
     "name": "stdout",
     "output_type": "stream",
     "text": [
      "Testing Accuracy for Naive Bayes: 0.7142857142857143\n",
      "Testing Recall for Naive Bayes: 0.7142857142857143\n",
      "Testing Precision for Naive Bayes: 0.6097560975609756\n",
      "Testing Specificity for Naive Bayes: 0.7142857142857143\n",
      "Testing F1 score for Naive Bayes: 0.6578947368421053\n"
     ]
    },
    {
     "data": {
      "image/png": "[encoded data removed]",
      "text/plain": [
       "<Figure size 432x360 with 2 Axes>"
      ]
     },
     "metadata": {},
     "output_type": "display_data"
    }
   ],
   "source": [
    "cm4= confusion_matrix(Y_test,Y_pred_nb)\n",
    "sns.heatmap(cm4, annot=True,cmap='winter',linewidths=0.3, linecolor='black',annot_kws={\"size\": 20})\n",
    "TP=cm4[0][0]\n",
    "TN=cm4[1][1]\n",
    "FN=cm4[1][0]\n",
    "FP=cm4[0][1]\n",
    "  \n",
    "print('Testing Accuracy for Naive Bayes:',(TP+TN)/(TP+TN+FN+FP))\n",
    "print('Testing Recall for Naive Bayes:',(TP/(TP+FN)))  #how many positive records we predicted correctly(Senesitivity)\n",
    "print('Testing Precision for Naive Bayes:',(TP/(TP+FP)))\n",
    "print('Testing Specificity for Naive Bayes:',(TN/(TN+FP)))  #how many negative records we predicted correctly\n",
    "X=(FP+FN)/2\n",
    "print('Testing F1 score for Naive Bayes:',(TP/(TP+X)))  #F1 score is the harmonic mean of recall and percision"
   ]
  },
  {
   "cell_type": "markdown",
   "metadata": {
    "id": "J48OwJRIq_U-"
   },
   "source": [
    "**split ratio=80:20**"
   ]
  },
  {
   "cell_type": "code",
   "execution_count": null,
   "metadata": {
    "colab": {
     "background_save": true
    },
    "id": "Qz_RmYISk7Q-"
   },
   "outputs": [],
   "source": [
    "from sklearn.model_selection import train_test_split\n",
    "\n",
    "predictors = data.drop(\"target\",axis=1)\n",
    "target = data[\"target\"]\n",
    "\n",
    "X_train,X_test,Y_train,Y_test = train_test_split(predictors,target,test_size=0.20,stratify=target,random_state=2)"
   ]
  },
  {
   "cell_type": "code",
   "execution_count": null,
   "metadata": {
    "colab": {
     "background_save": true,
     "base_uri": "https://localhost:8080/"
    },
    "id": "E6pzlidYlD1m",
    "outputId": "e1584db3-dc83-4ef5-d1b2-2a53ef3b9be9"
   },
   "outputs": [
    {
     "data": {
      "text/plain": [
       "(242, 6)"
      ]
     },
     "execution_count": null,
     "metadata": {},
     "output_type": "execute_result"
    }
   ],
   "source": [
    "X_train.shape"
   ]
  },
  {
   "cell_type": "code",
   "execution_count": null,
   "metadata": {
    "colab": {
     "background_save": true,
     "base_uri": "https://localhost:8080/"
    },
    "id": "TKOX9agolGrY",
    "outputId": "81a251b5-d54c-46fb-982f-c89fc5fca125"
   },
   "outputs": [
    {
     "data": {
      "text/plain": [
       "(61, 6)"
      ]
     },
     "execution_count": null,
     "metadata": {},
     "output_type": "execute_result"
    }
   ],
   "source": [
    "X_test.shape"
   ]
  },
  {
   "cell_type": "code",
   "execution_count": null,
   "metadata": {
    "colab": {
     "background_save": true,
     "base_uri": "https://localhost:8080/"
    },
    "id": "5XnkeAJmlIyR",
    "outputId": "27210aee-fad8-4a01-e9e0-e7d3d4d985a5"
   },
   "outputs": [
    {
     "data": {
      "text/plain": [
       "(242,)"
      ]
     },
     "execution_count": null,
     "metadata": {},
     "output_type": "execute_result"
    }
   ],
   "source": [
    "Y_train.shape"
   ]
  },
  {
   "cell_type": "code",
   "execution_count": null,
   "metadata": {
    "colab": {
     "background_save": true,
     "base_uri": "https://localhost:8080/"
    },
    "id": "xl81GR2HlMBP",
    "outputId": "7057064f-7339-497b-a28b-1ee36453db4a"
   },
   "outputs": [
    {
     "data": {
      "text/plain": [
       "(61,)"
      ]
     },
     "execution_count": null,
     "metadata": {},
     "output_type": "execute_result"
    }
   ],
   "source": [
    "Y_test.shape"
   ]
  },
  {
   "cell_type": "code",
   "execution_count": null,
   "metadata": {
    "colab": {
     "background_save": true,
     "base_uri": "https://localhost:8080/"
    },
    "id": "2DoTycoElU3t",
    "outputId": "e2c9faa3-5bf9-4652-db36-a44e938fa7de"
   },
   "outputs": [
    {
     "name": "stdout",
     "output_type": "stream",
     "text": [
      "The accuracy score achieved using Linear SVM is: 78.69 %\n"
     ]
    }
   ],
   "source": [
    "from sklearn import svm\n",
    "from sklearn.metrics import confusion_matrix\n",
    "from sklearn.metrics import accuracy_score\n",
    "sv = svm.SVC(kernel='linear',probability=True)\n",
    "sv.fit(X_train, Y_train)\n",
    "Y_pred_svm = sv.predict(X_test)\n",
    "score_svm = round(accuracy_score(Y_pred_svm,Y_test)*100,2)\n",
    "\n",
    "print(\"The accuracy score achieved using Linear SVM is: \"+str(score_svm)+\" %\")\n"
   ]
  },
  {
   "cell_type": "code",
   "execution_count": null,
   "metadata": {
    "colab": {
     "background_save": true,
     "base_uri": "https://localhost:8080/",
     "height": 413
    },
    "id": "VF9MjvpolcuZ",
    "outputId": "0aeac874-a988-4263-e4b4-1070cd3eaa66"
   },
   "outputs": [
    {
     "name": "stdout",
     "output_type": "stream",
     "text": [
      "Testing Accuracy for Linear SVM: 0.7868852459016393\n",
      "Testing Recall for Linear SVM: 0.8571428571428571\n",
      "Testing Precision for Linear SVM: 0.6428571428571429\n",
      "Testing Specificity for Linear SVM: 0.75\n",
      "Testing F1 score for Linear SVM: 0.7346938775510204\n"
     ]
    },
    {
     "data": {
      "image/png": "[encoded data removed]",
      "text/plain": [
       "<Figure size 432x360 with 2 Axes>"
      ]
     },
     "metadata": {},
     "output_type": "display_data"
    }
   ],
   "source": [
    "cm4= confusion_matrix(Y_test,Y_pred_svm)\n",
    "sns.heatmap(cm4, annot=True,cmap='winter',linewidths=0.3, linecolor='black',annot_kws={\"size\": 20})\n",
    "TP=cm4[0][0]\n",
    "TN=cm4[1][1]\n",
    "FN=cm4[1][0]\n",
    "FP=cm4[0][1]\n",
    "  \n",
    "print('Testing Accuracy for Linear SVM:',(TP+TN)/(TP+TN+FN+FP))\n",
    "print('Testing Recall for Linear SVM:',(TP/(TP+FN)))  #how many positive records we predicted correctly(Senesitivity)\n",
    "print('Testing Precision for Linear SVM:',(TP/(TP+FP)))\n",
    "print('Testing Specificity for Linear SVM:',(TN/(TN+FP)))  #how many negative records we predicted correctly\n",
    "X=(FP+FN)/2\n",
    "print('Testing F1 score for Linear SVM:',(TP/(TP+X)))  #F1 score is the harmonic mean of recall and percision"
   ]
  },
  {
   "cell_type": "code",
   "execution_count": null,
   "metadata": {
    "colab": {
     "background_save": true
    },
    "id": "xuG0oQ-maY_Y"
   },
   "outputs": [],
   "source": [
    "from sklearn.naive_bayes import GaussianNB\n",
    "\n",
    "nb = GaussianNB()\n",
    "\n",
    "nb.fit(X_train,Y_train)\n",
    "\n",
    "Y_pred_nb = nb.predict(X_test)"
   ]
  },
  {
   "cell_type": "code",
   "execution_count": null,
   "metadata": {
    "colab": {
     "background_save": true,
     "base_uri": "https://localhost:8080/"
    },
    "id": "cxstgO4jY8Ps",
    "outputId": "f54ec699-4aab-4ebc-90fc-64f0266a1bbb"
   },
   "outputs": [
    {
     "name": "stdout",
     "output_type": "stream",
     "text": [
      "The accuracy score achieved using Naive Bayes is: 73.77 %\n"
     ]
    }
   ],
   "source": [
    "score_nb = round(accuracy_score(Y_pred_nb,Y_test)*100,2)\n",
    "\n",
    "print(\"The accuracy score achieved using Naive Bayes is: \"+str(score_nb)+\" %\")"
   ]
  },
  {
   "cell_type": "code",
   "execution_count": null,
   "metadata": {
    "colab": {
     "background_save": true,
     "base_uri": "https://localhost:8080/",
     "height": 409
    },
    "id": "YnOH9wtSfU9H",
    "outputId": "e27f690e-daaf-4e33-cfdf-0fe234691f78"
   },
   "outputs": [
    {
     "name": "stdout",
     "output_type": "stream",
     "text": [
      "Testing Accuracy for Naive Bayes: 0.7377049180327869\n",
      "Testing Recall for Naive Bayes: 0.75\n",
      "Testing Precision for Naive Bayes: 0.6428571428571429\n",
      "Testing Specificity for Naive Bayes: 0.7297297297297297\n",
      "Testing F1 score for Naive Bayes: 0.6923076923076923\n"
     ]
    },
    {
     "data": {
      "image/png": "[encoded data removed]",
      "text/plain": [
       "<Figure size 432x360 with 2 Axes>"
      ]
     },
     "metadata": {},
     "output_type": "display_data"
    }
   ],
   "source": [
    "cm4= confusion_matrix(Y_test,Y_pred_nb)\n",
    "sns.heatmap(cm4, annot=True,cmap='winter',linewidths=0.3, linecolor='black',annot_kws={\"size\": 20})\n",
    "TP=cm4[0][0]\n",
    "TN=cm4[1][1]\n",
    "FN=cm4[1][0]\n",
    "FP=cm4[0][1]\n",
    "  \n",
    "print('Testing Accuracy for Naive Bayes:',(TP+TN)/(TP+TN+FN+FP))\n",
    "print('Testing Recall for Naive Bayes:',(TP/(TP+FN)))  #how many positive records we predicted correctly(Senesitivity)\n",
    "print('Testing Precision for Naive Bayes:',(TP/(TP+FP)))\n",
    "print('Testing Specificity for Naive Bayes:',(TN/(TN+FP)))  #how many negative records we predicted correctly\n",
    "X=(FP+FN)/2\n",
    "print('Testing F1 score for Naive Bayes:',(TP/(TP+X)))  #F1 score is the harmonic mean of recall and percision"
   ]
  },
  {
   "cell_type": "code",
   "execution_count": null,
   "metadata": {
    "colab": {
     "background_save": true
    },
    "id": "5lnZ9hjaY83g"
   },
   "outputs": [],
   "source": [
    "from sklearn.linear_model import LogisticRegression\n",
    "\n",
    "lr = LogisticRegression()\n",
    "\n",
    "lr.fit(X_train,Y_train)\n",
    "\n",
    "Y_pred_lr = lr.predict(X_test)"
   ]
  },
  {
   "cell_type": "code",
   "execution_count": null,
   "metadata": {
    "colab": {
     "background_save": true,
     "base_uri": "https://localhost:8080/"
    },
    "id": "8vnNGLx_ZCQC",
    "outputId": "311be297-80dd-47f1-96f5-bb9837504776"
   },
   "outputs": [
    {
     "name": "stdout",
     "output_type": "stream",
     "text": [
      "The accuracy score achieved using Logistic Regression is: 78.69 %\n"
     ]
    }
   ],
   "source": [
    "score_lr = round(accuracy_score(Y_pred_lr,Y_test)*100,2)\n",
    "\n",
    "print(\"The accuracy score achieved using Logistic Regression is: \"+str(score_lr)+\" %\")"
   ]
  },
  {
   "cell_type": "code",
   "execution_count": null,
   "metadata": {
    "colab": {
     "background_save": true,
     "base_uri": "https://localhost:8080/",
     "height": 409
    },
    "id": "Ut9pyFM1ffHr",
    "outputId": "f136929a-2ea1-482f-958f-6fd77bf2348e"
   },
   "outputs": [
    {
     "name": "stdout",
     "output_type": "stream",
     "text": [
      "Testing Accuracy for Logistic Regression: 0.7868852459016393\n",
      "Testing Recall for Logistic Regression: 0.8260869565217391\n",
      "Testing Precision for Logistic Regression: 0.6785714285714286\n",
      "Testing Specificity for Logistic Regression: 0.7631578947368421\n",
      "Testing F1 score for Logistic Regression: 0.7450980392156863\n"
     ]
    },
    {
     "data": {
      "image/png": "[encoded data removed]",
      "text/plain": [
       "<Figure size 432x360 with 2 Axes>"
      ]
     },
     "metadata": {},
     "output_type": "display_data"
    }
   ],
   "source": [
    "cm4= confusion_matrix(Y_test,Y_pred_lr)\n",
    "sns.heatmap(cm4, annot=True,cmap='winter',linewidths=0.3, linecolor='black',annot_kws={\"size\": 20})\n",
    "TP=cm4[0][0]\n",
    "TN=cm4[1][1]\n",
    "FN=cm4[1][0]\n",
    "FP=cm4[0][1]\n",
    "\n",
    "print('Testing Accuracy for Logistic Regression:',(TP+TN)/(TP+TN+FN+FP))\n",
    "print('Testing Recall for Logistic Regression:',(TP/(TP+FN)))  #how many positive records we predicted correctly(Senesitivity)\n",
    "print('Testing Precision for Logistic Regression:',(TP/(TP+FP)))\n",
    "print('Testing Specificity for Logistic Regression:',(TN/(TN+FP)))  #how many negative records we predicted correctly\n",
    "X=(FP+FN)/2\n",
    "print('Testing F1 score for Logistic Regression:',(TP/(TP+X)))  #F1 score is the harmonic mean of recall and percision"
   ]
  },
  {
   "cell_type": "markdown",
   "metadata": {
    "id": "oy0RHq_PrFwC"
   },
   "source": [
    "#**ROC curve**"
   ]
  },
  {
   "cell_type": "code",
   "execution_count": null,
   "metadata": {
    "colab": {
     "background_save": true,
     "base_uri": "https://localhost:8080/",
     "height": 322
    },
    "id": "nfaWy_E0xnGc",
    "outputId": "238cfd7b-9b7b-431d-d3a6-ebae80cd8658"
   },
   "outputs": [
    {
     "data": {
      "image/png": "[encoded data removed]",
      "text/plain": [
       "<Figure size 432x360 with 1 Axes>"
      ]
     },
     "metadata": {},
     "output_type": "display_data"
    }
   ],
   "source": [
    "plt.figure(0).clf()\n",
    "from sklearn import metrics\n",
    "y_pred_proba=lr.predict_proba(X_test)[:,1]\n",
    "fpr,tpr,_=metrics.roc_curve(Y_test,y_pred_proba)\n",
    "auc=round(metrics.roc_auc_score(Y_test,y_pred_proba),2)\n",
    "plt.plot(fpr,tpr,label=\"AUC logistic=\"+str(auc))\n",
    "\n",
    "\n",
    "y_pred_proba=nb.predict_proba(X_test)[:,1]\n",
    "fpr,tpr,_=metrics.roc_curve(Y_test,y_pred_proba)\n",
    "auc=round(metrics.roc_auc_score(Y_test,y_pred_proba),2)\n",
    "plt.plot(fpr,tpr,label=\"AUC navie bayes=\"+str(auc))\n",
    "\n",
    "y_pred_proba=sv.predict_proba(X_test)[:,1]\n",
    "fpr,tpr,_=metrics.roc_curve(Y_test,y_pred_proba)\n",
    "auc=round(metrics.roc_auc_score(Y_test,y_pred_proba),2)\n",
    "plt.plot(fpr,tpr,label=\"AUC svm=\"+str(auc))\n",
    "\n",
    "plt.legend()\n",
    "plt.show()"
   ]
  },
  {
   "cell_type": "markdown",
   "metadata": {
    "id": "oC-TERkArLj4"
   },
   "source": [
    "#taking input"
   ]
  },
  {
   "cell_type": "code",
   "execution_count": null,
   "metadata": {
    "colab": {
     "background_save": true,
     "base_uri": "https://localhost:8080/"
    },
    "id": "MSBDE6t3VkkN",
    "outputId": "d21fe438-30ba-4fcf-f533-330d2d82b220"
   },
   "outputs": [
    {
     "name": "stdout",
     "output_type": "stream",
     "text": [
      "     exang  cp  oldpeak  thalach  ca  slope\n",
      "197      0   0      1.8      169   2      1\n",
      "132      1   2      1.6      160   0      1\n",
      "157      1   2      0.0      173   4      2\n",
      "222      1   0      2.0      105   1      1\n",
      "174      0   0      0.0      154   0      2\n",
      "..     ...  ..      ...      ...  ..    ...\n",
      "80       1   2      0.0      180   0      2\n",
      "51       1   2      0.6      163   1      1\n",
      "14       1   1      0.6      171   0      2\n",
      "226      1   2      0.0      173   0      1\n",
      "34       0   2      1.0      137   0      1\n",
      "\n",
      "[61 rows x 6 columns]\n"
     ]
    }
   ],
   "source": [
    "print(X_test)"
   ]
  },
  {
   "cell_type": "code",
   "execution_count": null,
   "metadata": {
    "colab": {
     "background_save": true
    },
    "id": "562sXhx6V_Wb"
   },
   "outputs": [],
   "source": [
    "df = pd.DataFrame({'exang': [],\n",
    "                   'cp': [],\n",
    "                   'oldpeak': [],\n",
    "                   'thalach': [],\n",
    "                   'ca': [],\n",
    "                   'slope': []})"
   ]
  },
  {
   "cell_type": "code",
   "execution_count": null,
   "metadata": {
    "colab": {
     "base_uri": "https://localhost:8080/",
     "height": 185
    },
    "id": "02JVK6EdYU1L",
    "outputId": "cca091db-8b78-4a1c-96e4-3bbf6491d8f4"
   },
   "outputs": [
    {
     "name": "stdout",
     "output_type": "stream",
     "text": [
      "Enter exang value: 0\n",
      "Enter cp value: 0\n",
      "Enter oldpeak value: 0.0\n",
      "Enter thalach value: 181\n",
      "Enter ca value: 0\n",
      "Enter slope value: 2\n"
     ]
    },
    {
     "data": {
      "text/html": [
       "\n",
       "  <div id=\"df-6e4bfb0d-10de-4465-8cfa-41454683b40b\">\n",
       "    <div class=\"colab-df-container\">\n",
       "      <div>\n",
       "<style scoped>\n",
       "    .dataframe tbody tr th:only-of-type {\n",
       "        vertical-align: middle;\n",
       "    }\n",
       "\n",
       "    .dataframe tbody tr th {\n",
       "        vertical-align: top;\n",
       "    }\n",
       "\n",
       "    .dataframe thead th {\n",
       "        text-align: right;\n",
       "    }\n",
       "</style>\n",
       "<table border=\"1\" class=\"dataframe\">\n",
       "  <thead>\n",
       "    <tr style=\"text-align: right;\">\n",
       "      <th></th>\n",
       "      <th>exang</th>\n",
       "      <th>cp</th>\n",
       "      <th>oldpeak</th>\n",
       "      <th>thalach</th>\n",
       "      <th>ca</th>\n",
       "      <th>slope</th>\n",
       "    </tr>\n",
       "  </thead>\n",
       "  <tbody>\n",
       "    <tr>\n",
       "      <th>0</th>\n",
       "      <td>0.0</td>\n",
       "      <td>0.0</td>\n",
       "      <td>0.0</td>\n",
       "      <td>181.0</td>\n",
       "      <td>0.0</td>\n",
       "      <td>2.0</td>\n",
       "    </tr>\n",
       "  </tbody>\n",
       "</table>\n",
       "</div>\n",
       "      <button class=\"colab-df-convert\" onclick=\"convertToInteractive('df-6e4bfb0d-10de-4465-8cfa-41454683b40b')\"\n",
       "              title=\"Convert this dataframe to an interactive table.\"\n",
       "              style=\"display:none;\">\n",
       "        \n",
       "  <svg xmlns=\"http://www.w3.org/2000/svg\" height=\"24px\"viewBox=\"0 0 24 24\"\n",
       "       width=\"24px\">\n",
       "    <path d=\"M0 0h24v24H0V0z\" fill=\"none\"/>\n",
       "    <path d=\"M18.56 5.44l.94 2.06.94-2.06 2.06-.94-2.06-.94-.94-2.06-.94 2.06-2.06.94zm-11 1L8.5 8.5l.94-2.06 2.06-.94-2.06-.94L8.5 2.5l-.94 2.06-2.06.94zm10 10l.94 2.06.94-2.06 2.06-.94-2.06-.94-.94-2.06-.94 2.06-2.06.94z\"/><path d=\"M17.41 7.96l-1.37-1.37c-.4-.4-.92-.59-1.43-.59-.52 0-1.04.2-1.43.59L10.3 9.45l-7.72 7.72c-.78.78-.78 2.05 0 2.83L4 21.41c.39.39.9.59 1.41.59.51 0 1.02-.2 1.41-.59l7.78-7.78 2.81-2.81c.8-.78.8-2.07 0-2.86zM5.41 20L4 18.59l7.72-7.72 1.47 1.35L5.41 20z\"/>\n",
       "  </svg>\n",
       "      </button>\n",
       "      \n",
       "  <style>\n",
       "    .colab-df-container {\n",
       "      display:flex;\n",
       "      flex-wrap:wrap;\n",
       "      gap: 12px;\n",
       "    }\n",
       "\n",
       "    .colab-df-convert {\n",
       "      background-color: #E8F0FE;\n",
       "      border: none;\n",
       "      border-radius: 50%;\n",
       "      cursor: pointer;\n",
       "      display: none;\n",
       "      fill: #1967D2;\n",
       "      height: 32px;\n",
       "      padding: 0 0 0 0;\n",
       "      width: 32px;\n",
       "    }\n",
       "\n",
       "    .colab-df-convert:hover {\n",
       "      background-color: #E2EBFA;\n",
       "      box-shadow: 0px 1px 2px rgba(60, 64, 67, 0.3), 0px 1px 3px 1px rgba(60, 64, 67, 0.15);\n",
       "      fill: #174EA6;\n",
       "    }\n",
       "\n",
       "    [theme=dark] .colab-df-convert {\n",
       "      background-color: #3B4455;\n",
       "      fill: #D2E3FC;\n",
       "    }\n",
       "\n",
       "    [theme=dark] .colab-df-convert:hover {\n",
       "      background-color: #434B5C;\n",
       "      box-shadow: 0px 1px 3px 1px rgba(0, 0, 0, 0.15);\n",
       "      filter: drop-shadow(0px 1px 2px rgba(0, 0, 0, 0.3));\n",
       "      fill: #FFFFFF;\n",
       "    }\n",
       "  </style>\n",
       "\n",
       "      <script>\n",
       "        const buttonEl =\n",
       "          document.querySelector('#df-6e4bfb0d-10de-4465-8cfa-41454683b40b button.colab-df-convert');\n",
       "        buttonEl.style.display =\n",
       "          google.colab.kernel.accessAllowed ? 'block' : 'none';\n",
       "\n",
       "        async function convertToInteractive(key) {\n",
       "          const element = document.querySelector('#df-6e4bfb0d-10de-4465-8cfa-41454683b40b');\n",
       "          const dataTable =\n",
       "            await google.colab.kernel.invokeFunction('convertToInteractive',\n",
       "                                                     [key], {});\n",
       "          if (!dataTable) return;\n",
       "\n",
       "          const docLinkHtml = 'Like what you see? Visit the ' +\n",
       "            '<a target=\"_blank\" href=https://colab.research.google.com/notebooks/data_table.ipynb>data table notebook</a>'\n",
       "            + ' to learn more about interactive tables.';\n",
       "          element.innerHTML = '';\n",
       "          dataTable['output_type'] = 'display_data';\n",
       "          await google.colab.output.renderOutput(dataTable, element);\n",
       "          const docLink = document.createElement('div');\n",
       "          docLink.innerHTML = docLinkHtml;\n",
       "          element.appendChild(docLink);\n",
       "        }\n",
       "      </script>\n",
       "    </div>\n",
       "  </div>\n",
       "  "
      ],
      "text/plain": [
       "   exang   cp  oldpeak  thalach   ca  slope\n",
       "0    0.0  0.0      0.0    181.0  0.0    2.0"
      ]
     },
     "metadata": {},
     "output_type": "display_data"
    }
   ],
   "source": [
    "exang_ip=int(input(\"Enter exang value: \"))\n",
    "cp_ip=int(input(\"Enter cp value: \"))\n",
    "oldpeak_ip=float(input(\"Enter oldpeak value: \"))\n",
    "thalach_ip=int(input(\"Enter thalach value: \"))\n",
    "ca_ip=int(input(\"Enter ca value: \"))\n",
    "slope_ip=int(input(\"Enter slope value: \"))\n",
    "df.loc[len(df.index)] = [exang_ip,cp_ip,oldpeak_ip,thalach_ip,ca_ip,slope_ip] \n",
    "display(df)"
   ]
  },
  {
   "cell_type": "code",
   "execution_count": null,
   "metadata": {
    "id": "FX8I8iWnYp8Q"
   },
   "outputs": [],
   "source": [
    "Y_pred_svm = sv.predict(df)"
   ]
  },
  {
   "cell_type": "code",
   "execution_count": null,
   "metadata": {
    "colab": {
     "base_uri": "https://localhost:8080/"
    },
    "id": "gGfHl35yaWgK",
    "outputId": "a6b660e2-6ac6-4413-e139-265cd36ea10d"
   },
   "outputs": [
    {
     "name": "stdout",
     "output_type": "stream",
     "text": [
      "[1]\n"
     ]
    }
   ],
   "source": [
    "print(Y_pred_svm)"
   ]
  },
  {
   "cell_type": "code",
   "execution_count": null,
   "metadata": {
    "colab": {
     "base_uri": "https://localhost:8080/"
    },
    "id": "SO05iwveoKfq",
    "outputId": "57629a4d-3e6b-4eb9-e5cd-336572594bf5"
   },
   "outputs": [
    {
     "name": "stdout",
     "output_type": "stream",
     "text": [
      "The Person has Heart Disease\n"
     ]
    }
   ],
   "source": [
    "if (Y_pred_svm== 0):\n",
    "  print('The Person does not have a Heart Disease')\n",
    "else:\n",
    "  print('The Person has Heart Disease')"
   ]
  },
  {
   "cell_type": "markdown",
   "metadata": {
    "id": "9V0tcQhTrQYP"
   },
   "source": [
    "#creating GUI application "
   ]
  },
  {
   "cell_type": "code",
   "execution_count": null,
   "metadata": {
    "id": "-HGyXf4Nh4X0"
   },
   "outputs": [],
   "source": [
    "!pip install streamlit -q"
   ]
  },
  {
   "cell_type": "code",
   "execution_count": null,
   "metadata": {
    "colab": {
     "base_uri": "https://localhost:8080/"
    },
    "id": "l7iLwfpHmLiF",
    "outputId": "7067a35c-3162-48b5-f0cd-7f1876c965c1"
   },
   "outputs": [
    {
     "name": "stdout",
     "output_type": "stream",
     "text": [
      "Overwriting app.py\n"
     ]
    }
   ],
   "source": [
    "%%writefile app.py\n",
    "from sklearn import svm\n",
    "import pandas as pd\n",
    "from sklearn.metrics import confusion_matrix\n",
    "from sklearn.metrics import accuracy_score\n",
    "\n",
    "from sklearn.model_selection import train_test_split\n",
    "data = pd.read_csv('ex.csv') #return data frame with all values from table\n",
    "data=data[['exang', 'cp','oldpeak','thalach','ca','slope','target' ]]\n",
    "predictors = data.drop(\"target\",axis=1)\n",
    "target = data[\"target\"]\n",
    "\n",
    "X_train,X_test,Y_train,Y_test = train_test_split(predictors,target,test_size=0.20,stratify=target,random_state=2)\n",
    "from sklearn.linear_model import LogisticRegression\n",
    "\n",
    "lr = LogisticRegression()\n",
    "\n",
    "lr.fit(X_train,Y_train)\n",
    "\n",
    "Y_pred_lr = lr.predict(X_test)\n",
    "\n",
    "from sklearn import svm\n",
    "from sklearn.metrics import confusion_matrix\n",
    "from sklearn.metrics import accuracy_score\n",
    "sv = svm.SVC(kernel='linear',probability=True)\n",
    "sv.fit(X_train, Y_train)\n",
    "Y_pred_svm = sv.predict(X_test)\n",
    "\n",
    "\n",
    "from sklearn.naive_bayes import GaussianNB\n",
    "\n",
    "nb = GaussianNB()\n",
    "\n",
    "nb.fit(X_train,Y_train)\n",
    "\n",
    "Y_pred_nb = nb.predict(X_test)\n",
    "\n",
    "\n",
    "\n",
    "import streamlit as st\n",
    "st.header(\"Heart Disease Prediction\")\n",
    "exang_ip=st.radio(\"Exang \",[0,1],index=0)\n",
    "cp_ip=st.selectbox(\"Cp \",[0,1,2,3],index=0)\n",
    "oldpeak_ip=st.slider(\"oldpeak \",min_value=0.0,max_value=6.0,step=0.1)\n",
    "thalach_ip=st.slider(\"Thalach \",min_value=80,max_value=300,step=1)\n",
    "ca_ip=st.selectbox(\"Ca \",[0,1,2,3,4],index=0)\n",
    "slope_ip=st.selectbox(\"Slope \",[0,1,2],index=0)\n",
    "\n",
    "alg_ip=st.selectbox(\"Algorithm: \",[\"Logistic Regression\",\"SVM\",\"Naive Bayes\"],index=0)\n",
    "df = pd.DataFrame({'exang': [],\n",
    "                   'cp': [],\n",
    "                   'oldpeak': [],\n",
    "                   'thalach': [],\n",
    "                   'ca': [],\n",
    "                   'slope': []})\n",
    "df.loc[len(df.index)] = [exang_ip,cp_ip,oldpeak_ip,thalach_ip,ca_ip,slope_ip] \n",
    "if alg_ip==\"Logistic Regression\":\n",
    "  Y_pred_svm = lr.predict(df)\n",
    "if alg_ip==\"SVM\":\n",
    "  Y_pred_svm = sv.predict(df)\n",
    "if alg_ip==\"Naive Bayes\":\n",
    "  Y_pred_svm = nb.predict(df)\n",
    "if st.button(\"Submit\"):\n",
    "  if (Y_pred_svm== 0):\n",
    "    st.write('RESULT : The Person does not have a Heart Disease')\n",
    "  else:\n",
    "    st.write('RESULT : The Person has Heart Disease')"
   ]
  },
  {
   "cell_type": "code",
   "execution_count": null,
   "metadata": {
    "colab": {
     "background_save": true,
     "base_uri": "https://localhost:8080/"
    },
    "id": "oBIdQYQqneYi",
    "outputId": "a544f247-beb5-4f20-914e-e158e659da85"
   },
   "outputs": [
    {
     "name": "stdout",
     "output_type": "stream",
     "text": [
      "2022-06-16 10:26:17.013 INFO    numexpr.utils: NumExpr defaulting to 2 threads.\n",
      "\u001b[K\u001b[?25hnpx: installed 22 in 3.366s\n",
      "\u001b[0m\n",
      "\u001b[34m\u001b[1m  You can now view your Streamlit app in your browser.\u001b[0m\n",
      "\u001b[0m\n",
      "\u001b[34m  Network URL: \u001b[0m\u001b[1mhttp://172.28.0.2:8501\u001b[0m\n",
      "\u001b[34m  External URL: \u001b[0m\u001b[1mhttp://34.73.0.32:8501\u001b[0m\n",
      "\u001b[0m\n",
      "your url is: https://polite-doors-lose-34-73-0-32.loca.lt\n"
     ]
    }
   ],
   "source": [
    "!streamlit run app.py & npx localtunnel --port 8501"
   ]
  },
  {
   "cell_type": "code",
   "execution_count": null,
   "metadata": {
    "id": "DpWV5vhf741y"
   },
   "outputs": [],
   "source": []
  }
 ],
 "metadata": {
  "colab": {
   "collapsed_sections": [],
   "name": "Final.ipynb",
   "provenance": []
  },
  "kernelspec": {
   "display_name": "Python 3",
   "language": "python",
   "name": "python3"
  },
  "language_info": {
   "codemirror_mode": {
    "name": "ipython",
    "version": 3
   },
   "file_extension": ".py",
   "mimetype": "text/x-python",
   "name": "python",
   "nbconvert_exporter": "python",
   "pygments_lexer": "ipython3",
   "version": "3.8.5"
  }
 },
 "nbformat": 4,
 "nbformat_minor": 1
}
